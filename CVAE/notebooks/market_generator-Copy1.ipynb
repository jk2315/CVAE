{
 "cells": [
  {
   "cell_type": "markdown",
   "metadata": {},
   "source": [
    "# Market generator"
   ]
  },
  {
   "cell_type": "code",
   "execution_count": 3,
   "metadata": {
    "scrolled": true
   },
   "outputs": [
    {
     "name": "stderr",
     "output_type": "stream",
     "text": [
      "C:\\Users\\josep\\AppData\\Local\\Continuum\\anaconda3\\lib\\site-packages\\tensorflow\\python\\framework\\dtypes.py:516: FutureWarning: Passing (type, 1) or '1type' as a synonym of type is deprecated; in a future version of numpy, it will be understood as (type, (1,)) / '(1,)type'.\n",
      "  _np_qint8 = np.dtype([(\"qint8\", np.int8, 1)])\n",
      "C:\\Users\\josep\\AppData\\Local\\Continuum\\anaconda3\\lib\\site-packages\\tensorflow\\python\\framework\\dtypes.py:517: FutureWarning: Passing (type, 1) or '1type' as a synonym of type is deprecated; in a future version of numpy, it will be understood as (type, (1,)) / '(1,)type'.\n",
      "  _np_quint8 = np.dtype([(\"quint8\", np.uint8, 1)])\n",
      "C:\\Users\\josep\\AppData\\Local\\Continuum\\anaconda3\\lib\\site-packages\\tensorflow\\python\\framework\\dtypes.py:518: FutureWarning: Passing (type, 1) or '1type' as a synonym of type is deprecated; in a future version of numpy, it will be understood as (type, (1,)) / '(1,)type'.\n",
      "  _np_qint16 = np.dtype([(\"qint16\", np.int16, 1)])\n",
      "C:\\Users\\josep\\AppData\\Local\\Continuum\\anaconda3\\lib\\site-packages\\tensorflow\\python\\framework\\dtypes.py:519: FutureWarning: Passing (type, 1) or '1type' as a synonym of type is deprecated; in a future version of numpy, it will be understood as (type, (1,)) / '(1,)type'.\n",
      "  _np_quint16 = np.dtype([(\"quint16\", np.uint16, 1)])\n",
      "C:\\Users\\josep\\AppData\\Local\\Continuum\\anaconda3\\lib\\site-packages\\tensorflow\\python\\framework\\dtypes.py:520: FutureWarning: Passing (type, 1) or '1type' as a synonym of type is deprecated; in a future version of numpy, it will be understood as (type, (1,)) / '(1,)type'.\n",
      "  _np_qint32 = np.dtype([(\"qint32\", np.int32, 1)])\n",
      "C:\\Users\\josep\\AppData\\Local\\Continuum\\anaconda3\\lib\\site-packages\\tensorflow\\python\\framework\\dtypes.py:525: FutureWarning: Passing (type, 1) or '1type' as a synonym of type is deprecated; in a future version of numpy, it will be understood as (type, (1,)) / '(1,)type'.\n",
      "  np_resource = np.dtype([(\"resource\", np.ubyte, 1)])\n",
      "C:\\Users\\josep\\AppData\\Local\\Continuum\\anaconda3\\lib\\site-packages\\tensorboard\\compat\\tensorflow_stub\\dtypes.py:541: FutureWarning: Passing (type, 1) or '1type' as a synonym of type is deprecated; in a future version of numpy, it will be understood as (type, (1,)) / '(1,)type'.\n",
      "  _np_qint8 = np.dtype([(\"qint8\", np.int8, 1)])\n",
      "C:\\Users\\josep\\AppData\\Local\\Continuum\\anaconda3\\lib\\site-packages\\tensorboard\\compat\\tensorflow_stub\\dtypes.py:542: FutureWarning: Passing (type, 1) or '1type' as a synonym of type is deprecated; in a future version of numpy, it will be understood as (type, (1,)) / '(1,)type'.\n",
      "  _np_quint8 = np.dtype([(\"quint8\", np.uint8, 1)])\n",
      "C:\\Users\\josep\\AppData\\Local\\Continuum\\anaconda3\\lib\\site-packages\\tensorboard\\compat\\tensorflow_stub\\dtypes.py:543: FutureWarning: Passing (type, 1) or '1type' as a synonym of type is deprecated; in a future version of numpy, it will be understood as (type, (1,)) / '(1,)type'.\n",
      "  _np_qint16 = np.dtype([(\"qint16\", np.int16, 1)])\n",
      "C:\\Users\\josep\\AppData\\Local\\Continuum\\anaconda3\\lib\\site-packages\\tensorboard\\compat\\tensorflow_stub\\dtypes.py:544: FutureWarning: Passing (type, 1) or '1type' as a synonym of type is deprecated; in a future version of numpy, it will be understood as (type, (1,)) / '(1,)type'.\n",
      "  _np_quint16 = np.dtype([(\"quint16\", np.uint16, 1)])\n",
      "C:\\Users\\josep\\AppData\\Local\\Continuum\\anaconda3\\lib\\site-packages\\tensorboard\\compat\\tensorflow_stub\\dtypes.py:545: FutureWarning: Passing (type, 1) or '1type' as a synonym of type is deprecated; in a future version of numpy, it will be understood as (type, (1,)) / '(1,)type'.\n",
      "  _np_qint32 = np.dtype([(\"qint32\", np.int32, 1)])\n",
      "C:\\Users\\josep\\AppData\\Local\\Continuum\\anaconda3\\lib\\site-packages\\tensorboard\\compat\\tensorflow_stub\\dtypes.py:550: FutureWarning: Passing (type, 1) or '1type' as a synonym of type is deprecated; in a future version of numpy, it will be understood as (type, (1,)) / '(1,)type'.\n",
      "  np_resource = np.dtype([(\"resource\", np.ubyte, 1)])\n"
     ]
    }
   ],
   "source": [
    "from tqdm import tqdm\n",
    "import matplotlib.pyplot as plt\n",
    "import numpy as np\n",
    "import datetime\n",
    "\n",
    "import base\n",
    "import market_generator_NDF\n",
    "from utils import tosig"
   ]
  },
  {
   "cell_type": "code",
   "execution_count": 11,
   "metadata": {},
   "outputs": [],
   "source": [
    "# Signature order\n",
    "order = 4"
   ]
  },
  {
   "cell_type": "markdown",
   "metadata": {},
   "source": [
    "## Load monthly paths"
   ]
  },
  {
   "cell_type": "code",
   "execution_count": 10,
   "metadata": {},
   "outputs": [
    {
     "data": {
      "text/plain": [
       "Date\n",
       "2018-01-01    1066.069946\n",
       "2018-01-02    1065.219971\n",
       "2018-01-03    1062.540039\n",
       "2018-01-04    1063.939941\n",
       "2018-01-05    1061.079956\n",
       "2018-01-08    1060.500000\n",
       "2018-01-09    1067.689941\n",
       "2018-01-10    1071.739990\n",
       "2018-01-11    1069.670044\n",
       "2018-01-12    1065.140015\n",
       "2018-01-15    1055.800049\n",
       "2018-01-16    1061.819946\n",
       "2018-01-17    1062.459961\n",
       "2018-01-18    1066.560059\n",
       "2018-01-19    1069.689941\n",
       "2018-01-22    1066.359985\n",
       "2018-01-23    1068.810059\n",
       "2018-01-24    1072.760010\n",
       "2018-01-25    1064.400024\n",
       "2018-01-26    1064.890015\n",
       "2018-01-29    1063.130005\n",
       "2018-01-30    1069.790039\n",
       "2018-01-31    1072.540039\n",
       "2018-02-01    1069.020020\n",
       "2018-02-02    1071.180054\n",
       "2018-02-05    1090.010010\n",
       "2018-02-06    1093.300049\n",
       "2018-02-07    1079.260010\n",
       "2018-02-08    1089.420044\n",
       "2018-02-09    1095.859985\n",
       "                 ...     \n",
       "2018-11-22    1137.310059\n",
       "2018-11-23    1135.500000\n",
       "2018-11-26    1133.500000\n",
       "2018-11-27    1129.030029\n",
       "2018-11-28    1130.369995\n",
       "2018-11-29    1121.119995\n",
       "2018-11-30    1117.020020\n",
       "2018-12-03    1117.150024\n",
       "2018-12-04    1108.300049\n",
       "2018-12-05    1110.630005\n",
       "2018-12-06    1111.660034\n",
       "2018-12-07    1119.599976\n",
       "2018-12-10    1122.699951\n",
       "2018-12-11    1131.500000\n",
       "2018-12-12    1127.619995\n",
       "2018-12-13    1123.849976\n",
       "2018-12-14    1127.020020\n",
       "2018-12-17    1131.650024\n",
       "2018-12-18    1128.150024\n",
       "2018-12-19    1125.069946\n",
       "2018-12-20    1128.130005\n",
       "2018-12-21    1120.030029\n",
       "2018-12-24    1127.500000\n",
       "2018-12-25    1123.229980\n",
       "2018-12-26    1122.630005\n",
       "2018-12-27    1123.520020\n",
       "2018-12-28    1119.599976\n",
       "2018-12-31    1116.300049\n",
       "2019-01-01    1112.500000\n",
       "2019-01-02    1113.800049\n",
       "Name: Close, Length: 263, dtype: float64"
      ]
     },
     "execution_count": 10,
     "metadata": {},
     "output_type": "execute_result"
    }
   ],
   "source": [
    "import pandas_datareader as pdr\n",
    "pdr.get_data_yahoo('USDKRW%3DX', datetime.date(2018, 1, 1), datetime.date(2019, 1, 1))[\"Close\"]"
   ]
  },
  {
   "cell_type": "code",
   "execution_count": 57,
   "metadata": {},
   "outputs": [
    {
     "data": {
      "application/vnd.jupyter.widget-view+json": {
       "model_id": "464bf5a10bc84e0bb92198849b47f2fa",
       "version_major": 2,
       "version_minor": 0
      },
      "text/plain": [
       "Computing log-signatures:   0%|          | 0/182 [00:00<?, ?it/s]"
      ]
     },
     "metadata": {},
     "output_type": "display_data"
    }
   ],
   "source": [
    "# ^GSPC is S&P 500.\n",
    "#ticker = \"^GSPC\"\n",
    "ticker = \"USDKRW%3DX\"\n",
    "MG = market_generator_NDF.MarketGenerator(ticker, start=datetime.date(1980, 1, 1),\n",
    "                                      freq=\"M\", sig_order=order)"
   ]
  },
  {
   "cell_type": "markdown",
   "metadata": {},
   "source": [
    "## Plot paths"
   ]
  },
  {
   "cell_type": "code",
   "execution_count": 38,
   "metadata": {
    "scrolled": false
   },
   "outputs": [
    {
     "data": {
      "text/plain": [
       "(522, 8)"
      ]
     },
     "execution_count": 38,
     "metadata": {},
     "output_type": "execute_result"
    }
   ],
   "source": [
    "np.shape(MG.conditions)"
   ]
  },
  {
   "cell_type": "code",
   "execution_count": 58,
   "metadata": {},
   "outputs": [
    {
     "data": {
      "image/png": "[encoded data removed]",
      "text/plain": [
       "<Figure size 432x288 with 1 Axes>"
      ]
     },
     "metadata": {
      "needs_background": "light"
     },
     "output_type": "display_data"
    }
   ],
   "source": [
    "for path in MG.windows:\n",
    "    returns = path[::2, 1] / path[0, 1]\n",
    "    plt.plot(returns, \"b\", alpha=0.05)\n",
    "\n",
    "plt.title(\"Monthly paths\")\n",
    "plt.xlabel(\"Days\")\n",
    "plt.show()"
   ]
  },
  {
   "cell_type": "markdown",
   "metadata": {},
   "source": [
    "## Train generative model"
   ]
  },
  {
   "cell_type": "code",
   "execution_count": 59,
   "metadata": {
    "scrolled": true
   },
   "outputs": [
    {
     "name": "stdout",
     "output_type": "stream",
     "text": [
      "WARNING:tensorflow:Entity <bound method Flatten.call of <tensorflow.python.layers.core.Flatten object at 0x000001765C485390>> could not be transformed and will be executed as-is. Please report this to the AutgoGraph team. When filing the bug, set the verbosity to 10 (on Linux, `export AUTOGRAPH_VERBOSITY=10`) and attach the full output. Cause: converting <bound method Flatten.call of <tensorflow.python.layers.core.Flatten object at 0x000001765C485390>>: AttributeError: module 'gast' has no attribute 'Index'\n",
      "WARNING: Entity <bound method Flatten.call of <tensorflow.python.layers.core.Flatten object at 0x000001765C485390>> could not be transformed and will be executed as-is. Please report this to the AutgoGraph team. When filing the bug, set the verbosity to 10 (on Linux, `export AUTOGRAPH_VERBOSITY=10`) and attach the full output. Cause: converting <bound method Flatten.call of <tensorflow.python.layers.core.Flatten object at 0x000001765C485390>>: AttributeError: module 'gast' has no attribute 'Index'\n",
      "WARNING:tensorflow:Entity <bound method Dense.call of <tensorflow.python.layers.core.Dense object at 0x0000017671D717F0>> could not be transformed and will be executed as-is. Please report this to the AutgoGraph team. When filing the bug, set the verbosity to 10 (on Linux, `export AUTOGRAPH_VERBOSITY=10`) and attach the full output. Cause: converting <bound method Dense.call of <tensorflow.python.layers.core.Dense object at 0x0000017671D717F0>>: AttributeError: module 'gast' has no attribute 'Index'\n",
      "WARNING: Entity <bound method Dense.call of <tensorflow.python.layers.core.Dense object at 0x0000017671D717F0>> could not be transformed and will be executed as-is. Please report this to the AutgoGraph team. When filing the bug, set the verbosity to 10 (on Linux, `export AUTOGRAPH_VERBOSITY=10`) and attach the full output. Cause: converting <bound method Dense.call of <tensorflow.python.layers.core.Dense object at 0x0000017671D717F0>>: AttributeError: module 'gast' has no attribute 'Index'\n",
      "WARNING:tensorflow:Entity <bound method Dense.call of <tensorflow.python.layers.core.Dense object at 0x0000017671D717F0>> could not be transformed and will be executed as-is. Please report this to the AutgoGraph team. When filing the bug, set the verbosity to 10 (on Linux, `export AUTOGRAPH_VERBOSITY=10`) and attach the full output. Cause: converting <bound method Dense.call of <tensorflow.python.layers.core.Dense object at 0x0000017671D717F0>>: AttributeError: module 'gast' has no attribute 'Index'\n",
      "WARNING: Entity <bound method Dense.call of <tensorflow.python.layers.core.Dense object at 0x0000017671D717F0>> could not be transformed and will be executed as-is. Please report this to the AutgoGraph team. When filing the bug, set the verbosity to 10 (on Linux, `export AUTOGRAPH_VERBOSITY=10`) and attach the full output. Cause: converting <bound method Dense.call of <tensorflow.python.layers.core.Dense object at 0x0000017671D717F0>>: AttributeError: module 'gast' has no attribute 'Index'\n",
      "WARNING:tensorflow:Entity <bound method Dense.call of <tensorflow.python.layers.core.Dense object at 0x0000017671D717F0>> could not be transformed and will be executed as-is. Please report this to the AutgoGraph team. When filing the bug, set the verbosity to 10 (on Linux, `export AUTOGRAPH_VERBOSITY=10`) and attach the full output. Cause: converting <bound method Dense.call of <tensorflow.python.layers.core.Dense object at 0x0000017671D717F0>>: AttributeError: module 'gast' has no attribute 'Index'\n",
      "WARNING: Entity <bound method Dense.call of <tensorflow.python.layers.core.Dense object at 0x0000017671D717F0>> could not be transformed and will be executed as-is. Please report this to the AutgoGraph team. When filing the bug, set the verbosity to 10 (on Linux, `export AUTOGRAPH_VERBOSITY=10`) and attach the full output. Cause: converting <bound method Dense.call of <tensorflow.python.layers.core.Dense object at 0x0000017671D717F0>>: AttributeError: module 'gast' has no attribute 'Index'\n",
      "WARNING:tensorflow:Entity <bound method Dense.call of <tensorflow.python.layers.core.Dense object at 0x000001765EA31358>> could not be transformed and will be executed as-is. Please report this to the AutgoGraph team. When filing the bug, set the verbosity to 10 (on Linux, `export AUTOGRAPH_VERBOSITY=10`) and attach the full output. Cause: converting <bound method Dense.call of <tensorflow.python.layers.core.Dense object at 0x000001765EA31358>>: AttributeError: module 'gast' has no attribute 'Index'\n",
      "WARNING: Entity <bound method Dense.call of <tensorflow.python.layers.core.Dense object at 0x000001765EA31358>> could not be transformed and will be executed as-is. Please report this to the AutgoGraph team. When filing the bug, set the verbosity to 10 (on Linux, `export AUTOGRAPH_VERBOSITY=10`) and attach the full output. Cause: converting <bound method Dense.call of <tensorflow.python.layers.core.Dense object at 0x000001765EA31358>>: AttributeError: module 'gast' has no attribute 'Index'\n",
      "WARNING:tensorflow:Entity <bound method Dense.call of <tensorflow.python.layers.core.Dense object at 0x000001765EA31358>> could not be transformed and will be executed as-is. Please report this to the AutgoGraph team. When filing the bug, set the verbosity to 10 (on Linux, `export AUTOGRAPH_VERBOSITY=10`) and attach the full output. Cause: converting <bound method Dense.call of <tensorflow.python.layers.core.Dense object at 0x000001765EA31358>>: AttributeError: module 'gast' has no attribute 'Index'\n",
      "WARNING: Entity <bound method Dense.call of <tensorflow.python.layers.core.Dense object at 0x000001765EA31358>> could not be transformed and will be executed as-is. Please report this to the AutgoGraph team. When filing the bug, set the verbosity to 10 (on Linux, `export AUTOGRAPH_VERBOSITY=10`) and attach the full output. Cause: converting <bound method Dense.call of <tensorflow.python.layers.core.Dense object at 0x000001765EA31358>>: AttributeError: module 'gast' has no attribute 'Index'\n"
     ]
    },
    {
     "data": {
      "application/vnd.jupyter.widget-view+json": {
       "model_id": "b2f26a251c8940029b3c616d1c102deb",
       "version_major": 2,
       "version_minor": 0
      },
      "text/plain": [
       "Training:   0%|          | 0/10000 [00:00<?, ?it/s]"
      ]
     },
     "metadata": {},
     "output_type": "display_data"
    }
   ],
   "source": [
    "MG.train(n_epochs=10000)"
   ]
  },
  {
   "cell_type": "code",
   "execution_count": 41,
   "metadata": {},
   "outputs": [
    {
     "data": {
      "text/plain": [
       "array([[9.99990000e-01, 9.99990000e-01, 1.00000000e-05, ...,\n",
       "        9.72766342e-01, 9.99990000e-01, 7.96819386e-01],\n",
       "       [7.66943178e-01, 7.66943178e-01, 8.02724824e-01, ...,\n",
       "        9.46655303e-01, 5.30699318e-01, 7.92453763e-01],\n",
       "       [4.68524311e-01, 4.68524311e-01, 5.95036093e-01, ...,\n",
       "        8.20117343e-01, 4.41351271e-01, 6.17669996e-01],\n",
       "       ...,\n",
       "       [5.27360703e-01, 5.27360703e-01, 9.83111308e-01, ...,\n",
       "        9.72671280e-01, 5.34038681e-01, 7.96562410e-01],\n",
       "       [4.30873187e-01, 4.30873187e-01, 9.86064746e-01, ...,\n",
       "        9.72840686e-01, 5.34187324e-01, 7.96824926e-01],\n",
       "       [4.53390709e-01, 4.53390709e-01, 9.95192793e-01, ...,\n",
       "        9.72767011e-01, 5.34113048e-01, 7.96822676e-01]])"
      ]
     },
     "execution_count": 41,
     "metadata": {},
     "output_type": "execute_result"
    }
   ],
   "source": [
    "MG.conditions"
   ]
  },
  {
   "cell_type": "markdown",
   "metadata": {},
   "source": [
    "## Generate"
   ]
  },
  {
   "cell_type": "code",
   "execution_count": 60,
   "metadata": {},
   "outputs": [
    {
     "name": "stderr",
     "output_type": "stream",
     "text": [
      "100%|████████████████████████████████████████████████████████████████████████████████| 181/181 [00:04<00:00, 37.84it/s]\n",
      "100%|████████████████████████████████████████████████████████████████████████████████| 182/182 [00:05<00:00, 36.39it/s]\n"
     ]
    }
   ],
   "source": [
    "generated = np.array([MG.generate(cond) for cond in MG.conditions])\n",
    "#generated = MG.generate(MG.conditions[100], n_samples=len(MG.logsigs))\n",
    "#generated = MG.generate(MG.conditions[150][2] * 0.5, n_samples=len(MG.logsigs))\n",
    "\n",
    "generated_sigs = np.array([tosig.logsig2sig(logsig, 2, order) for logsig in tqdm(generated)])\n",
    "real_sigs = np.array([tosig.logsig2sig(logsig, 2, order) for logsig in tqdm(MG.orig_logsig)])"
   ]
  },
  {
   "cell_type": "code",
   "execution_count": 61,
   "metadata": {},
   "outputs": [
    {
     "data": {
      "image/png": "[encoded data removed]",
      "text/plain": [
       "<Figure size 864x576 with 4 Axes>"
      ]
     },
     "metadata": {},
     "output_type": "display_data"
    }
   ],
   "source": [
    "from esig.tosig import sigkeys\n",
    "\n",
    "keys = sigkeys(2, order).split()\n",
    "\n",
    "PROJECTIONS = [(4, 5), (2, 4), (6, 7), (9, 2)]\n",
    "\n",
    "plt.figure(figsize=(12, 8))\n",
    "for i, projection in enumerate(PROJECTIONS):\n",
    "    plt.subplot(2, 2, i + 1)\n",
    "\n",
    "    plt.scatter(real_sigs[:, projection[0]], real_sigs[:, projection[1]],\n",
    "                label=\"Real data\")\n",
    "    plt.scatter(generated_sigs[:, projection[0]], generated_sigs[:, projection[1]],\n",
    "               label=\"Generated\")\n",
    "    plt.xlabel(keys[projection[0]], fontsize=14)\n",
    "    plt.ylabel(keys[projection[1]], fontsize=14)\n",
    "    plt.xticks([])\n",
    "    plt.yticks([])\n",
    "    #plt.legend()\n",
    "    \n",
    "plt.show()"
   ]
  },
  {
   "cell_type": "markdown",
   "metadata": {},
   "source": [
    "## Validation: two-sample statistical test"
   ]
  },
  {
   "cell_type": "code",
   "execution_count": 62,
   "metadata": {},
   "outputs": [
    {
     "name": "stderr",
     "output_type": "stream",
     "text": [
      "100%|████████████████████████████████████████████████████████████████████████████████| 181/181 [00:08<00:00, 21.02it/s]\n",
      "100%|████████████████████████████████████████████████████████████████████████████████| 181/181 [00:10<00:00, 17.85it/s]\n"
     ]
    },
    {
     "data": {
      "application/vnd.jupyter.widget-view+json": {
       "model_id": "06af8a8dbbb149e488f6c8b4b588a8ae",
       "version_major": 2,
       "version_minor": 0
      },
      "text/plain": [
       "Computing signatures of population 1:   0%|          | 0/181 [00:00<?, ?it/s]"
      ]
     },
     "metadata": {},
     "output_type": "display_data"
    },
    {
     "data": {
      "application/vnd.jupyter.widget-view+json": {
       "model_id": "c0487d4465b9444587a052e77c2dda46",
       "version_major": 2,
       "version_minor": 0
      },
      "text/plain": [
       "Computing signatures of population 2:   0%|          | 0/181 [00:00<?, ?it/s]"
      ]
     },
     "metadata": {},
     "output_type": "display_data"
    },
    {
     "name": "stdout",
     "output_type": "stream",
     "text": [
      "Are the generated and real distributions DIFFERENT? False\n"
     ]
    }
   ],
   "source": [
    "import process_discriminator\n",
    "\n",
    "normalised_generated = np.array([MG.generate(cond, normalised=True) for cond in MG.conditions])\n",
    "sigs1 = np.array([tosig.logsig2sig(logsig, 2, order) for logsig in tqdm(normalised_generated)])\n",
    "sigs2 = np.array([tosig.logsig2sig(logsig, 2, order) for logsig in tqdm(MG.logsigs)])\n",
    "\n",
    "res = process_discriminator.test(sigs1, sigs2, order=order, compute_sigs=False,\n",
    "                                 confidence_level=0.99)\n",
    "\n",
    "print(\"Are the generated and real distributions DIFFERENT? {}\".format(res))"
   ]
  },
  {
   "cell_type": "markdown",
   "metadata": {},
   "source": [
    "## Invert log-signature"
   ]
  },
  {
   "cell_type": "code",
   "execution_count": 67,
   "metadata": {},
   "outputs": [],
   "source": [
    "import logsig_inversion\n",
    "from esig.tosig import stream2logsig\n",
    "from utils.leadlag import leadlag\n",
    "\n",
    "logsig = MG.generate(MG.conditions[0])"
   ]
  },
  {
   "cell_type": "code",
   "execution_count": 68,
   "metadata": {},
   "outputs": [
    {
     "data": {
      "text/plain": [
       "array([ 1.8510172e+01,  1.9044638e+01, -8.2204071e+02,  7.6105942e+03,\n",
       "        6.3453882e+03, -1.7113748e+05, -1.8774080e+05, -1.5708228e+05],\n",
       "      dtype=float32)"
      ]
     },
     "execution_count": 68,
     "metadata": {},
     "output_type": "execute_result"
    }
   ],
   "source": [
    "logsig"
   ]
  },
  {
   "cell_type": "code",
   "execution_count": 69,
   "metadata": {},
   "outputs": [
    {
     "data": {
      "application/vnd.jupyter.widget-view+json": {
       "model_id": "df8018dae6b94a4a91bcb0cce1011ac8",
       "version_major": 2,
       "version_minor": 0
      },
      "text/plain": [
       "  0%|          | 0/100 [00:00<?, ?it/s]"
      ]
     },
     "metadata": {},
     "output_type": "display_data"
    }
   ],
   "source": [
    "pip = 0.01\n",
    "n_pips = 10 * 100 # 50$\n",
    "n_points = 21\n",
    "\n",
    "n_iterations = 100\n",
    "n_organisms = 100\n",
    "\n",
    "recovered_path, loss = logsig_inversion.train(logsig, order, n_iterations, n_organisms, n_points,\n",
    "                                              pip, n_pips)"
   ]
  },
  {
   "cell_type": "code",
   "execution_count": 70,
   "metadata": {},
   "outputs": [
    {
     "data": {
      "image/png": "[encoded data removed]",
      "text/plain": [
       "<Figure size 432x288 with 1 Axes>"
      ]
     },
     "metadata": {
      "needs_background": "light"
     },
     "output_type": "display_data"
    },
    {
     "name": "stdout",
     "output_type": "stream",
     "text": [
      "Target log-signature: [18.51017189025879, 19.04463768005371, -822.0407104492188, 7610.59423828125, 6345.38818359375, -171137.484375, -187740.796875, -157082.28125]\n",
      "Recovered log-signature: [18.51, 18.51, -404.36105, 7612.417100250001, 7201.7712647499975, -102285.80997311331, -198138.14800087115, -97699.6248593483]\n"
     ]
    }
   ],
   "source": [
    "plt.plot(recovered_path)\n",
    "plt.show()\n",
    "print(f\"Target log-signature: {logsig.tolist()}\")\n",
    "print(f\"Recovered log-signature: {stream2logsig(leadlag(recovered_path), order).tolist()}\")"
   ]
  },
  {
   "cell_type": "code",
   "execution_count": 71,
   "metadata": {},
   "outputs": [
    {
     "data": {
      "text/plain": [
       "array([[0.48539076, 0.48539076, 0.99098258, ..., 0.99925183, 0.99688548,\n",
       "        0.9961918 ],\n",
       "       [0.45239401, 0.45239401, 0.97341016, ..., 0.9989751 , 0.99665483,\n",
       "        0.99596522],\n",
       "       [0.54307227, 0.54307227, 0.97110669, ..., 0.99916732, 0.99687965,\n",
       "        0.99610947],\n",
       "       ...,\n",
       "       [0.57090527, 0.57090527, 0.99021552, ..., 0.9993252 , 0.99696098,\n",
       "        0.99625427],\n",
       "       [0.44647479, 0.44647479, 0.98823253, ..., 0.99937632, 0.99701987,\n",
       "        0.99630158],\n",
       "       [0.50465995, 0.50465995, 0.99357169, ..., 0.99931146, 0.99693667,\n",
       "        0.99623638]])"
      ]
     },
     "execution_count": 71,
     "metadata": {},
     "output_type": "execute_result"
    }
   ],
   "source": [
    "MG.conditions"
   ]
  },
  {
   "cell_type": "code",
   "execution_count": 72,
   "metadata": {
    "scrolled": true
   },
   "outputs": [
    {
     "data": {
      "application/vnd.jupyter.widget-view+json": {
       "model_id": "6a334e17bf004f6487bb9a99c6efffac",
       "version_major": 2,
       "version_minor": 0
      },
      "text/plain": [
       "  0%|          | 0/100 [00:00<?, ?it/s]"
      ]
     },
     "metadata": {},
     "output_type": "display_data"
    },
    {
     "data": {
      "application/vnd.jupyter.widget-view+json": {
       "model_id": "45f93fb8045b42b2905cb8fdd1657351",
       "version_major": 2,
       "version_minor": 0
      },
      "text/plain": [
       "  0%|          | 0/100 [00:00<?, ?it/s]"
      ]
     },
     "metadata": {},
     "output_type": "display_data"
    },
    {
     "data": {
      "application/vnd.jupyter.widget-view+json": {
       "model_id": "89d9a7b37e77403996a8f661bca751d0",
       "version_major": 2,
       "version_minor": 0
      },
      "text/plain": [
       "  0%|          | 0/100 [00:00<?, ?it/s]"
      ]
     },
     "metadata": {},
     "output_type": "display_data"
    },
    {
     "data": {
      "application/vnd.jupyter.widget-view+json": {
       "model_id": "28ed40452edf466f989055ce7e6f161e",
       "version_major": 2,
       "version_minor": 0
      },
      "text/plain": [
       "  0%|          | 0/100 [00:00<?, ?it/s]"
      ]
     },
     "metadata": {},
     "output_type": "display_data"
    },
    {
     "data": {
      "application/vnd.jupyter.widget-view+json": {
       "model_id": "4e31e0907b554bc58f3d66a43ccc71f4",
       "version_major": 2,
       "version_minor": 0
      },
      "text/plain": [
       "  0%|          | 0/100 [00:00<?, ?it/s]"
      ]
     },
     "metadata": {},
     "output_type": "display_data"
    },
    {
     "data": {
      "application/vnd.jupyter.widget-view+json": {
       "model_id": "12716a6eb3524b5795c44a12f788cdec",
       "version_major": 2,
       "version_minor": 0
      },
      "text/plain": [
       "  0%|          | 0/100 [00:00<?, ?it/s]"
      ]
     },
     "metadata": {},
     "output_type": "display_data"
    },
    {
     "data": {
      "application/vnd.jupyter.widget-view+json": {
       "model_id": "06d62830d6c6441387f4b493096c8045",
       "version_major": 2,
       "version_minor": 0
      },
      "text/plain": [
       "  0%|          | 0/100 [00:00<?, ?it/s]"
      ]
     },
     "metadata": {},
     "output_type": "display_data"
    },
    {
     "data": {
      "application/vnd.jupyter.widget-view+json": {
       "model_id": "94233e208e0140e598bda6bbd2ae0351",
       "version_major": 2,
       "version_minor": 0
      },
      "text/plain": [
       "  0%|          | 0/100 [00:00<?, ?it/s]"
      ]
     },
     "metadata": {},
     "output_type": "display_data"
    },
    {
     "data": {
      "application/vnd.jupyter.widget-view+json": {
       "model_id": "201bf2f0845540038730dc3c248fcd5b",
       "version_major": 2,
       "version_minor": 0
      },
      "text/plain": [
       "  0%|          | 0/100 [00:00<?, ?it/s]"
      ]
     },
     "metadata": {},
     "output_type": "display_data"
    },
    {
     "data": {
      "application/vnd.jupyter.widget-view+json": {
       "model_id": "306420d056bc47a9aeb75bc0779f56f8",
       "version_major": 2,
       "version_minor": 0
      },
      "text/plain": [
       "  0%|          | 0/100 [00:00<?, ?it/s]"
      ]
     },
     "metadata": {},
     "output_type": "display_data"
    },
    {
     "data": {
      "application/vnd.jupyter.widget-view+json": {
       "model_id": "9a8c828541ea4b4d9ccd2ee810d39ea4",
       "version_major": 2,
       "version_minor": 0
      },
      "text/plain": [
       "  0%|          | 0/100 [00:00<?, ?it/s]"
      ]
     },
     "metadata": {},
     "output_type": "display_data"
    },
    {
     "data": {
      "application/vnd.jupyter.widget-view+json": {
       "model_id": "a700cd51602241bdb916a2a3ae836eca",
       "version_major": 2,
       "version_minor": 0
      },
      "text/plain": [
       "  0%|          | 0/100 [00:00<?, ?it/s]"
      ]
     },
     "metadata": {},
     "output_type": "display_data"
    },
    {
     "data": {
      "application/vnd.jupyter.widget-view+json": {
       "model_id": "b83c1456c4674bdfbaf0892f96549a49",
       "version_major": 2,
       "version_minor": 0
      },
      "text/plain": [
       "  0%|          | 0/100 [00:00<?, ?it/s]"
      ]
     },
     "metadata": {},
     "output_type": "display_data"
    },
    {
     "data": {
      "application/vnd.jupyter.widget-view+json": {
       "model_id": "9d343006176e451b930fe45e8ec91232",
       "version_major": 2,
       "version_minor": 0
      },
      "text/plain": [
       "  0%|          | 0/100 [00:00<?, ?it/s]"
      ]
     },
     "metadata": {},
     "output_type": "display_data"
    },
    {
     "data": {
      "application/vnd.jupyter.widget-view+json": {
       "model_id": "b84d43a3caae4fee9ed8b1bd5fb430e3",
       "version_major": 2,
       "version_minor": 0
      },
      "text/plain": [
       "  0%|          | 0/100 [00:00<?, ?it/s]"
      ]
     },
     "metadata": {},
     "output_type": "display_data"
    },
    {
     "data": {
      "application/vnd.jupyter.widget-view+json": {
       "model_id": "4ad40f7ad4d04d7ebf7b38af55525dfe",
       "version_major": 2,
       "version_minor": 0
      },
      "text/plain": [
       "  0%|          | 0/100 [00:00<?, ?it/s]"
      ]
     },
     "metadata": {},
     "output_type": "display_data"
    },
    {
     "data": {
      "application/vnd.jupyter.widget-view+json": {
       "model_id": "0ab21ac4d3a9401a8b9349ec859baf76",
       "version_major": 2,
       "version_minor": 0
      },
      "text/plain": [
       "  0%|          | 0/100 [00:00<?, ?it/s]"
      ]
     },
     "metadata": {},
     "output_type": "display_data"
    },
    {
     "data": {
      "application/vnd.jupyter.widget-view+json": {
       "model_id": "8836165d971d42948b5dda486d640a34",
       "version_major": 2,
       "version_minor": 0
      },
      "text/plain": [
       "  0%|          | 0/100 [00:00<?, ?it/s]"
      ]
     },
     "metadata": {},
     "output_type": "display_data"
    },
    {
     "data": {
      "application/vnd.jupyter.widget-view+json": {
       "model_id": "9fa507ea26aa468db2a0b7fffd26e517",
       "version_major": 2,
       "version_minor": 0
      },
      "text/plain": [
       "  0%|          | 0/100 [00:00<?, ?it/s]"
      ]
     },
     "metadata": {},
     "output_type": "display_data"
    },
    {
     "data": {
      "application/vnd.jupyter.widget-view+json": {
       "model_id": "f8ffb8494b674ecea1d9de741da1e893",
       "version_major": 2,
       "version_minor": 0
      },
      "text/plain": [
       "  0%|          | 0/100 [00:00<?, ?it/s]"
      ]
     },
     "metadata": {},
     "output_type": "display_data"
    },
    {
     "data": {
      "application/vnd.jupyter.widget-view+json": {
       "model_id": "5e04df5dda22406d9148e606aca53b5b",
       "version_major": 2,
       "version_minor": 0
      },
      "text/plain": [
       "  0%|          | 0/100 [00:00<?, ?it/s]"
      ]
     },
     "metadata": {},
     "output_type": "display_data"
    },
    {
     "data": {
      "application/vnd.jupyter.widget-view+json": {
       "model_id": "42047be4b7234775ac4b53befb49b2c5",
       "version_major": 2,
       "version_minor": 0
      },
      "text/plain": [
       "  0%|          | 0/100 [00:00<?, ?it/s]"
      ]
     },
     "metadata": {},
     "output_type": "display_data"
    },
    {
     "data": {
      "application/vnd.jupyter.widget-view+json": {
       "model_id": "98392f2f8eac40479706a062d06d2a86",
       "version_major": 2,
       "version_minor": 0
      },
      "text/plain": [
       "  0%|          | 0/100 [00:00<?, ?it/s]"
      ]
     },
     "metadata": {},
     "output_type": "display_data"
    },
    {
     "data": {
      "application/vnd.jupyter.widget-view+json": {
       "model_id": "7999c1356e3e4f398b7d634b47cf21b5",
       "version_major": 2,
       "version_minor": 0
      },
      "text/plain": [
       "  0%|          | 0/100 [00:00<?, ?it/s]"
      ]
     },
     "metadata": {},
     "output_type": "display_data"
    },
    {
     "data": {
      "application/vnd.jupyter.widget-view+json": {
       "model_id": "9c1e8b454649470589b033bb0759ecad",
       "version_major": 2,
       "version_minor": 0
      },
      "text/plain": [
       "  0%|          | 0/100 [00:00<?, ?it/s]"
      ]
     },
     "metadata": {},
     "output_type": "display_data"
    },
    {
     "data": {
      "application/vnd.jupyter.widget-view+json": {
       "model_id": "bbf6018b7df8431cb8a3dd5dc5e29e7a",
       "version_major": 2,
       "version_minor": 0
      },
      "text/plain": [
       "  0%|          | 0/100 [00:00<?, ?it/s]"
      ]
     },
     "metadata": {},
     "output_type": "display_data"
    },
    {
     "data": {
      "application/vnd.jupyter.widget-view+json": {
       "model_id": "5cec3d004d174c0db4c30af192628b4e",
       "version_major": 2,
       "version_minor": 0
      },
      "text/plain": [
       "  0%|          | 0/100 [00:00<?, ?it/s]"
      ]
     },
     "metadata": {},
     "output_type": "display_data"
    },
    {
     "data": {
      "application/vnd.jupyter.widget-view+json": {
       "model_id": "8782dbb03b7a42179d199c714ad59f1f",
       "version_major": 2,
       "version_minor": 0
      },
      "text/plain": [
       "  0%|          | 0/100 [00:00<?, ?it/s]"
      ]
     },
     "metadata": {},
     "output_type": "display_data"
    },
    {
     "data": {
      "application/vnd.jupyter.widget-view+json": {
       "model_id": "cb5835e66013434cab9dcecc2b43d54b",
       "version_major": 2,
       "version_minor": 0
      },
      "text/plain": [
       "  0%|          | 0/100 [00:00<?, ?it/s]"
      ]
     },
     "metadata": {},
     "output_type": "display_data"
    },
    {
     "data": {
      "application/vnd.jupyter.widget-view+json": {
       "model_id": "019cd1ce80f544e9a6b04a353b510e64",
       "version_major": 2,
       "version_minor": 0
      },
      "text/plain": [
       "  0%|          | 0/100 [00:00<?, ?it/s]"
      ]
     },
     "metadata": {},
     "output_type": "display_data"
    },
    {
     "data": {
      "application/vnd.jupyter.widget-view+json": {
       "model_id": "605bcc0209d24ec0a81eb222e20df743",
       "version_major": 2,
       "version_minor": 0
      },
      "text/plain": [
       "  0%|          | 0/100 [00:00<?, ?it/s]"
      ]
     },
     "metadata": {},
     "output_type": "display_data"
    },
    {
     "data": {
      "application/vnd.jupyter.widget-view+json": {
       "model_id": "d90ace767b6a465eae102560fc5e3906",
       "version_major": 2,
       "version_minor": 0
      },
      "text/plain": [
       "  0%|          | 0/100 [00:00<?, ?it/s]"
      ]
     },
     "metadata": {},
     "output_type": "display_data"
    },
    {
     "data": {
      "application/vnd.jupyter.widget-view+json": {
       "model_id": "bd465ee3d58d424586d8abedef2c2063",
       "version_major": 2,
       "version_minor": 0
      },
      "text/plain": [
       "  0%|          | 0/100 [00:00<?, ?it/s]"
      ]
     },
     "metadata": {},
     "output_type": "display_data"
    },
    {
     "data": {
      "application/vnd.jupyter.widget-view+json": {
       "model_id": "579901500f0943c085ff833646a2abe2",
       "version_major": 2,
       "version_minor": 0
      },
      "text/plain": [
       "  0%|          | 0/100 [00:00<?, ?it/s]"
      ]
     },
     "metadata": {},
     "output_type": "display_data"
    },
    {
     "data": {
      "application/vnd.jupyter.widget-view+json": {
       "model_id": "b5a914371b60437d8be52a20e51a14a1",
       "version_major": 2,
       "version_minor": 0
      },
      "text/plain": [
       "  0%|          | 0/100 [00:00<?, ?it/s]"
      ]
     },
     "metadata": {},
     "output_type": "display_data"
    },
    {
     "data": {
      "application/vnd.jupyter.widget-view+json": {
       "model_id": "64117605d84641d583262a88eac4a891",
       "version_major": 2,
       "version_minor": 0
      },
      "text/plain": [
       "  0%|          | 0/100 [00:00<?, ?it/s]"
      ]
     },
     "metadata": {},
     "output_type": "display_data"
    },
    {
     "data": {
      "application/vnd.jupyter.widget-view+json": {
       "model_id": "382e9f356b5e4e4eb4ff94eb04146f96",
       "version_major": 2,
       "version_minor": 0
      },
      "text/plain": [
       "  0%|          | 0/100 [00:00<?, ?it/s]"
      ]
     },
     "metadata": {},
     "output_type": "display_data"
    },
    {
     "data": {
      "application/vnd.jupyter.widget-view+json": {
       "model_id": "ba544e866462499494999c7a88da3178",
       "version_major": 2,
       "version_minor": 0
      },
      "text/plain": [
       "  0%|          | 0/100 [00:00<?, ?it/s]"
      ]
     },
     "metadata": {},
     "output_type": "display_data"
    },
    {
     "data": {
      "application/vnd.jupyter.widget-view+json": {
       "model_id": "78b46648620a41b3b75b2ef477984780",
       "version_major": 2,
       "version_minor": 0
      },
      "text/plain": [
       "  0%|          | 0/100 [00:00<?, ?it/s]"
      ]
     },
     "metadata": {},
     "output_type": "display_data"
    },
    {
     "data": {
      "application/vnd.jupyter.widget-view+json": {
       "model_id": "1857360049cb4337a95be5b189f8ebc7",
       "version_major": 2,
       "version_minor": 0
      },
      "text/plain": [
       "  0%|          | 0/100 [00:00<?, ?it/s]"
      ]
     },
     "metadata": {},
     "output_type": "display_data"
    },
    {
     "data": {
      "application/vnd.jupyter.widget-view+json": {
       "model_id": "4e5b8a213531424eaf4eb9ecc35389c3",
       "version_major": 2,
       "version_minor": 0
      },
      "text/plain": [
       "  0%|          | 0/100 [00:00<?, ?it/s]"
      ]
     },
     "metadata": {},
     "output_type": "display_data"
    },
    {
     "data": {
      "application/vnd.jupyter.widget-view+json": {
       "model_id": "881f3e1917d84916abbd609e4d92da50",
       "version_major": 2,
       "version_minor": 0
      },
      "text/plain": [
       "  0%|          | 0/100 [00:00<?, ?it/s]"
      ]
     },
     "metadata": {},
     "output_type": "display_data"
    },
    {
     "data": {
      "application/vnd.jupyter.widget-view+json": {
       "model_id": "52403ce905f3463b89509857dcd5807d",
       "version_major": 2,
       "version_minor": 0
      },
      "text/plain": [
       "  0%|          | 0/100 [00:00<?, ?it/s]"
      ]
     },
     "metadata": {},
     "output_type": "display_data"
    },
    {
     "data": {
      "application/vnd.jupyter.widget-view+json": {
       "model_id": "5ac04893c0d14fb69524bdaf084a68e9",
       "version_major": 2,
       "version_minor": 0
      },
      "text/plain": [
       "  0%|          | 0/100 [00:00<?, ?it/s]"
      ]
     },
     "metadata": {},
     "output_type": "display_data"
    },
    {
     "data": {
      "application/vnd.jupyter.widget-view+json": {
       "model_id": "38322017292e4c17b01e7c81adadb4f5",
       "version_major": 2,
       "version_minor": 0
      },
      "text/plain": [
       "  0%|          | 0/100 [00:00<?, ?it/s]"
      ]
     },
     "metadata": {},
     "output_type": "display_data"
    },
    {
     "data": {
      "application/vnd.jupyter.widget-view+json": {
       "model_id": "4ff8fdaa7a824f3c93f8874d8ddf4210",
       "version_major": 2,
       "version_minor": 0
      },
      "text/plain": [
       "  0%|          | 0/100 [00:00<?, ?it/s]"
      ]
     },
     "metadata": {},
     "output_type": "display_data"
    },
    {
     "data": {
      "application/vnd.jupyter.widget-view+json": {
       "model_id": "56be4e6318f04cf19aa1fae1fadca7f4",
       "version_major": 2,
       "version_minor": 0
      },
      "text/plain": [
       "  0%|          | 0/100 [00:00<?, ?it/s]"
      ]
     },
     "metadata": {},
     "output_type": "display_data"
    },
    {
     "data": {
      "application/vnd.jupyter.widget-view+json": {
       "model_id": "6736502077224cfc83b4971adce2e9de",
       "version_major": 2,
       "version_minor": 0
      },
      "text/plain": [
       "  0%|          | 0/100 [00:00<?, ?it/s]"
      ]
     },
     "metadata": {},
     "output_type": "display_data"
    },
    {
     "data": {
      "application/vnd.jupyter.widget-view+json": {
       "model_id": "533012fdcc28499a8127e52b9f6b866e",
       "version_major": 2,
       "version_minor": 0
      },
      "text/plain": [
       "  0%|          | 0/100 [00:00<?, ?it/s]"
      ]
     },
     "metadata": {},
     "output_type": "display_data"
    },
    {
     "data": {
      "application/vnd.jupyter.widget-view+json": {
       "model_id": "742a61bb4dec4d62bbf42da5315e147a",
       "version_major": 2,
       "version_minor": 0
      },
      "text/plain": [
       "  0%|          | 0/100 [00:00<?, ?it/s]"
      ]
     },
     "metadata": {},
     "output_type": "display_data"
    },
    {
     "data": {
      "application/vnd.jupyter.widget-view+json": {
       "model_id": "bb9bb0f6763b478181b2af8bc1f1e2b0",
       "version_major": 2,
       "version_minor": 0
      },
      "text/plain": [
       "  0%|          | 0/100 [00:00<?, ?it/s]"
      ]
     },
     "metadata": {},
     "output_type": "display_data"
    },
    {
     "data": {
      "application/vnd.jupyter.widget-view+json": {
       "model_id": "e6a6d7131f0c47a78943450e78c98d71",
       "version_major": 2,
       "version_minor": 0
      },
      "text/plain": [
       "  0%|          | 0/100 [00:00<?, ?it/s]"
      ]
     },
     "metadata": {},
     "output_type": "display_data"
    },
    {
     "data": {
      "application/vnd.jupyter.widget-view+json": {
       "model_id": "6937d29fc25242818a8c6605bd07f568",
       "version_major": 2,
       "version_minor": 0
      },
      "text/plain": [
       "  0%|          | 0/100 [00:00<?, ?it/s]"
      ]
     },
     "metadata": {},
     "output_type": "display_data"
    },
    {
     "data": {
      "application/vnd.jupyter.widget-view+json": {
       "model_id": "a42b60c845a947e785deaf45cd3e35bf",
       "version_major": 2,
       "version_minor": 0
      },
      "text/plain": [
       "  0%|          | 0/100 [00:00<?, ?it/s]"
      ]
     },
     "metadata": {},
     "output_type": "display_data"
    },
    {
     "data": {
      "application/vnd.jupyter.widget-view+json": {
       "model_id": "0f7b9f21b00e4db08c39e6075505474a",
       "version_major": 2,
       "version_minor": 0
      },
      "text/plain": [
       "  0%|          | 0/100 [00:00<?, ?it/s]"
      ]
     },
     "metadata": {},
     "output_type": "display_data"
    },
    {
     "data": {
      "application/vnd.jupyter.widget-view+json": {
       "model_id": "004dce12e3cc49b098ffac654290443a",
       "version_major": 2,
       "version_minor": 0
      },
      "text/plain": [
       "  0%|          | 0/100 [00:00<?, ?it/s]"
      ]
     },
     "metadata": {},
     "output_type": "display_data"
    },
    {
     "data": {
      "application/vnd.jupyter.widget-view+json": {
       "model_id": "b13ebd803f824bba962f420c4446fe65",
       "version_major": 2,
       "version_minor": 0
      },
      "text/plain": [
       "  0%|          | 0/100 [00:00<?, ?it/s]"
      ]
     },
     "metadata": {},
     "output_type": "display_data"
    },
    {
     "data": {
      "application/vnd.jupyter.widget-view+json": {
       "model_id": "59b1e42272eb40a585b451e7784dee78",
       "version_major": 2,
       "version_minor": 0
      },
      "text/plain": [
       "  0%|          | 0/100 [00:00<?, ?it/s]"
      ]
     },
     "metadata": {},
     "output_type": "display_data"
    },
    {
     "data": {
      "application/vnd.jupyter.widget-view+json": {
       "model_id": "8da665a9100c45f8a7c4d1ee8db95b3f",
       "version_major": 2,
       "version_minor": 0
      },
      "text/plain": [
       "  0%|          | 0/100 [00:00<?, ?it/s]"
      ]
     },
     "metadata": {},
     "output_type": "display_data"
    },
    {
     "data": {
      "application/vnd.jupyter.widget-view+json": {
       "model_id": "8f413eec23914867a44c438689addf0c",
       "version_major": 2,
       "version_minor": 0
      },
      "text/plain": [
       "  0%|          | 0/100 [00:00<?, ?it/s]"
      ]
     },
     "metadata": {},
     "output_type": "display_data"
    },
    {
     "data": {
      "application/vnd.jupyter.widget-view+json": {
       "model_id": "7d240de117e24be09b9531731302b241",
       "version_major": 2,
       "version_minor": 0
      },
      "text/plain": [
       "  0%|          | 0/100 [00:00<?, ?it/s]"
      ]
     },
     "metadata": {},
     "output_type": "display_data"
    },
    {
     "data": {
      "application/vnd.jupyter.widget-view+json": {
       "model_id": "ce6d023e311840cea9055eef6c4b5d38",
       "version_major": 2,
       "version_minor": 0
      },
      "text/plain": [
       "  0%|          | 0/100 [00:00<?, ?it/s]"
      ]
     },
     "metadata": {},
     "output_type": "display_data"
    },
    {
     "data": {
      "application/vnd.jupyter.widget-view+json": {
       "model_id": "fae694cf6bd84085b40ad21f6ed9dcb0",
       "version_major": 2,
       "version_minor": 0
      },
      "text/plain": [
       "  0%|          | 0/100 [00:00<?, ?it/s]"
      ]
     },
     "metadata": {},
     "output_type": "display_data"
    },
    {
     "data": {
      "application/vnd.jupyter.widget-view+json": {
       "model_id": "27dfea06f5444f509627034298827b8d",
       "version_major": 2,
       "version_minor": 0
      },
      "text/plain": [
       "  0%|          | 0/100 [00:00<?, ?it/s]"
      ]
     },
     "metadata": {},
     "output_type": "display_data"
    },
    {
     "data": {
      "application/vnd.jupyter.widget-view+json": {
       "model_id": "eba956b17058483698bdc139f85c1227",
       "version_major": 2,
       "version_minor": 0
      },
      "text/plain": [
       "  0%|          | 0/100 [00:00<?, ?it/s]"
      ]
     },
     "metadata": {},
     "output_type": "display_data"
    },
    {
     "data": {
      "application/vnd.jupyter.widget-view+json": {
       "model_id": "185107767bb14675a1054f3e3b0bb084",
       "version_major": 2,
       "version_minor": 0
      },
      "text/plain": [
       "  0%|          | 0/100 [00:00<?, ?it/s]"
      ]
     },
     "metadata": {},
     "output_type": "display_data"
    },
    {
     "data": {
      "application/vnd.jupyter.widget-view+json": {
       "model_id": "6cc49ba3543f4021bf81f2991d6cb4b5",
       "version_major": 2,
       "version_minor": 0
      },
      "text/plain": [
       "  0%|          | 0/100 [00:00<?, ?it/s]"
      ]
     },
     "metadata": {},
     "output_type": "display_data"
    },
    {
     "data": {
      "application/vnd.jupyter.widget-view+json": {
       "model_id": "14533408b84e4fd1a28dc81863d99aa5",
       "version_major": 2,
       "version_minor": 0
      },
      "text/plain": [
       "  0%|          | 0/100 [00:00<?, ?it/s]"
      ]
     },
     "metadata": {},
     "output_type": "display_data"
    },
    {
     "data": {
      "application/vnd.jupyter.widget-view+json": {
       "model_id": "eb64b75b79cb4142aafe5d80af99bf92",
       "version_major": 2,
       "version_minor": 0
      },
      "text/plain": [
       "  0%|          | 0/100 [00:00<?, ?it/s]"
      ]
     },
     "metadata": {},
     "output_type": "display_data"
    },
    {
     "data": {
      "application/vnd.jupyter.widget-view+json": {
       "model_id": "32e489cf282143e2869cb354a1dde343",
       "version_major": 2,
       "version_minor": 0
      },
      "text/plain": [
       "  0%|          | 0/100 [00:00<?, ?it/s]"
      ]
     },
     "metadata": {},
     "output_type": "display_data"
    },
    {
     "data": {
      "application/vnd.jupyter.widget-view+json": {
       "model_id": "bfff6c3f17ad4aeebd3de13b3e002f9e",
       "version_major": 2,
       "version_minor": 0
      },
      "text/plain": [
       "  0%|          | 0/100 [00:00<?, ?it/s]"
      ]
     },
     "metadata": {},
     "output_type": "display_data"
    },
    {
     "data": {
      "application/vnd.jupyter.widget-view+json": {
       "model_id": "86e521256e574dac80cbdb8338dc3641",
       "version_major": 2,
       "version_minor": 0
      },
      "text/plain": [
       "  0%|          | 0/100 [00:00<?, ?it/s]"
      ]
     },
     "metadata": {},
     "output_type": "display_data"
    },
    {
     "data": {
      "application/vnd.jupyter.widget-view+json": {
       "model_id": "a17d1f761a58409bbdabcc79a5608bc7",
       "version_major": 2,
       "version_minor": 0
      },
      "text/plain": [
       "  0%|          | 0/100 [00:00<?, ?it/s]"
      ]
     },
     "metadata": {},
     "output_type": "display_data"
    },
    {
     "data": {
      "application/vnd.jupyter.widget-view+json": {
       "model_id": "d77cb7efdccf4b3cbad5dd46edd65ddc",
       "version_major": 2,
       "version_minor": 0
      },
      "text/plain": [
       "  0%|          | 0/100 [00:00<?, ?it/s]"
      ]
     },
     "metadata": {},
     "output_type": "display_data"
    },
    {
     "data": {
      "application/vnd.jupyter.widget-view+json": {
       "model_id": "938413ddd3794db393af60c679bb4f46",
       "version_major": 2,
       "version_minor": 0
      },
      "text/plain": [
       "  0%|          | 0/100 [00:00<?, ?it/s]"
      ]
     },
     "metadata": {},
     "output_type": "display_data"
    },
    {
     "data": {
      "application/vnd.jupyter.widget-view+json": {
       "model_id": "ae73ea604c4c49eb8d8719d02521bada",
       "version_major": 2,
       "version_minor": 0
      },
      "text/plain": [
       "  0%|          | 0/100 [00:00<?, ?it/s]"
      ]
     },
     "metadata": {},
     "output_type": "display_data"
    },
    {
     "data": {
      "application/vnd.jupyter.widget-view+json": {
       "model_id": "1a202488f0414c6c9c7d637d8c9a2c36",
       "version_major": 2,
       "version_minor": 0
      },
      "text/plain": [
       "  0%|          | 0/100 [00:00<?, ?it/s]"
      ]
     },
     "metadata": {},
     "output_type": "display_data"
    },
    {
     "data": {
      "application/vnd.jupyter.widget-view+json": {
       "model_id": "11aa2f5721cd4f829ebf812076d1d161",
       "version_major": 2,
       "version_minor": 0
      },
      "text/plain": [
       "  0%|          | 0/100 [00:00<?, ?it/s]"
      ]
     },
     "metadata": {},
     "output_type": "display_data"
    },
    {
     "data": {
      "application/vnd.jupyter.widget-view+json": {
       "model_id": "3a749fbb201044ff882d4cb9df020883",
       "version_major": 2,
       "version_minor": 0
      },
      "text/plain": [
       "  0%|          | 0/100 [00:00<?, ?it/s]"
      ]
     },
     "metadata": {},
     "output_type": "display_data"
    },
    {
     "data": {
      "application/vnd.jupyter.widget-view+json": {
       "model_id": "6960f496aa784ea9bb253eeda0a1cb4c",
       "version_major": 2,
       "version_minor": 0
      },
      "text/plain": [
       "  0%|          | 0/100 [00:00<?, ?it/s]"
      ]
     },
     "metadata": {},
     "output_type": "display_data"
    },
    {
     "data": {
      "application/vnd.jupyter.widget-view+json": {
       "model_id": "836afb3e55ba4bdc89b16fc0ee1762a7",
       "version_major": 2,
       "version_minor": 0
      },
      "text/plain": [
       "  0%|          | 0/100 [00:00<?, ?it/s]"
      ]
     },
     "metadata": {},
     "output_type": "display_data"
    },
    {
     "data": {
      "application/vnd.jupyter.widget-view+json": {
       "model_id": "39fa5adb92424a089d9aef3f8c53a894",
       "version_major": 2,
       "version_minor": 0
      },
      "text/plain": [
       "  0%|          | 0/100 [00:00<?, ?it/s]"
      ]
     },
     "metadata": {},
     "output_type": "display_data"
    },
    {
     "data": {
      "application/vnd.jupyter.widget-view+json": {
       "model_id": "dd6ea022cae1476abb8ad92d5b6fc1f4",
       "version_major": 2,
       "version_minor": 0
      },
      "text/plain": [
       "  0%|          | 0/100 [00:00<?, ?it/s]"
      ]
     },
     "metadata": {},
     "output_type": "display_data"
    },
    {
     "data": {
      "application/vnd.jupyter.widget-view+json": {
       "model_id": "db0cd510131b4236a323aeca125b21c1",
       "version_major": 2,
       "version_minor": 0
      },
      "text/plain": [
       "  0%|          | 0/100 [00:00<?, ?it/s]"
      ]
     },
     "metadata": {},
     "output_type": "display_data"
    },
    {
     "data": {
      "application/vnd.jupyter.widget-view+json": {
       "model_id": "f255f9f102a74c3aa8ce3de6f8f5cdc9",
       "version_major": 2,
       "version_minor": 0
      },
      "text/plain": [
       "  0%|          | 0/100 [00:00<?, ?it/s]"
      ]
     },
     "metadata": {},
     "output_type": "display_data"
    },
    {
     "data": {
      "application/vnd.jupyter.widget-view+json": {
       "model_id": "a835d1726d9c459d83999d2dfd0082b7",
       "version_major": 2,
       "version_minor": 0
      },
      "text/plain": [
       "  0%|          | 0/100 [00:00<?, ?it/s]"
      ]
     },
     "metadata": {},
     "output_type": "display_data"
    },
    {
     "data": {
      "application/vnd.jupyter.widget-view+json": {
       "model_id": "4079f30c065b45d991dac4a6b0971c1e",
       "version_major": 2,
       "version_minor": 0
      },
      "text/plain": [
       "  0%|          | 0/100 [00:00<?, ?it/s]"
      ]
     },
     "metadata": {},
     "output_type": "display_data"
    },
    {
     "data": {
      "application/vnd.jupyter.widget-view+json": {
       "model_id": "e505285102514b61ade6ed76b1cf5765",
       "version_major": 2,
       "version_minor": 0
      },
      "text/plain": [
       "  0%|          | 0/100 [00:00<?, ?it/s]"
      ]
     },
     "metadata": {},
     "output_type": "display_data"
    },
    {
     "data": {
      "application/vnd.jupyter.widget-view+json": {
       "model_id": "8667a502ecc04fbe956e85ad27615a53",
       "version_major": 2,
       "version_minor": 0
      },
      "text/plain": [
       "  0%|          | 0/100 [00:00<?, ?it/s]"
      ]
     },
     "metadata": {},
     "output_type": "display_data"
    },
    {
     "data": {
      "application/vnd.jupyter.widget-view+json": {
       "model_id": "6c19a7d23009494ea365d5916673dd31",
       "version_major": 2,
       "version_minor": 0
      },
      "text/plain": [
       "  0%|          | 0/100 [00:00<?, ?it/s]"
      ]
     },
     "metadata": {},
     "output_type": "display_data"
    },
    {
     "data": {
      "application/vnd.jupyter.widget-view+json": {
       "model_id": "66b627f0b5504210a6e4ab2030d69c0a",
       "version_major": 2,
       "version_minor": 0
      },
      "text/plain": [
       "  0%|          | 0/100 [00:00<?, ?it/s]"
      ]
     },
     "metadata": {},
     "output_type": "display_data"
    },
    {
     "data": {
      "application/vnd.jupyter.widget-view+json": {
       "model_id": "98da7e3c14524f4d81cf066d54d57c29",
       "version_major": 2,
       "version_minor": 0
      },
      "text/plain": [
       "  0%|          | 0/100 [00:00<?, ?it/s]"
      ]
     },
     "metadata": {},
     "output_type": "display_data"
    },
    {
     "data": {
      "application/vnd.jupyter.widget-view+json": {
       "model_id": "bc7d7417193a4a13a973c4245f64fbc3",
       "version_major": 2,
       "version_minor": 0
      },
      "text/plain": [
       "  0%|          | 0/100 [00:00<?, ?it/s]"
      ]
     },
     "metadata": {},
     "output_type": "display_data"
    },
    {
     "data": {
      "application/vnd.jupyter.widget-view+json": {
       "model_id": "f1da24b8ada94f45969d62b13522c55b",
       "version_major": 2,
       "version_minor": 0
      },
      "text/plain": [
       "  0%|          | 0/100 [00:00<?, ?it/s]"
      ]
     },
     "metadata": {},
     "output_type": "display_data"
    },
    {
     "data": {
      "application/vnd.jupyter.widget-view+json": {
       "model_id": "b07833a70a1f4bedb48a2275c0b0500d",
       "version_major": 2,
       "version_minor": 0
      },
      "text/plain": [
       "  0%|          | 0/100 [00:00<?, ?it/s]"
      ]
     },
     "metadata": {},
     "output_type": "display_data"
    },
    {
     "data": {
      "application/vnd.jupyter.widget-view+json": {
       "model_id": "ffbb59c94f424f70b8283cd5e77b77a9",
       "version_major": 2,
       "version_minor": 0
      },
      "text/plain": [
       "  0%|          | 0/100 [00:00<?, ?it/s]"
      ]
     },
     "metadata": {},
     "output_type": "display_data"
    },
    {
     "data": {
      "application/vnd.jupyter.widget-view+json": {
       "model_id": "574d08c117134e929a111a38b3a15d98",
       "version_major": 2,
       "version_minor": 0
      },
      "text/plain": [
       "  0%|          | 0/100 [00:00<?, ?it/s]"
      ]
     },
     "metadata": {},
     "output_type": "display_data"
    },
    {
     "data": {
      "application/vnd.jupyter.widget-view+json": {
       "model_id": "94b96af9ebb04e3882208b31d822b56c",
       "version_major": 2,
       "version_minor": 0
      },
      "text/plain": [
       "  0%|          | 0/100 [00:00<?, ?it/s]"
      ]
     },
     "metadata": {},
     "output_type": "display_data"
    },
    {
     "data": {
      "application/vnd.jupyter.widget-view+json": {
       "model_id": "64e2e642e3664e84af8725f8e200f14b",
       "version_major": 2,
       "version_minor": 0
      },
      "text/plain": [
       "  0%|          | 0/100 [00:00<?, ?it/s]"
      ]
     },
     "metadata": {},
     "output_type": "display_data"
    },
    {
     "data": {
      "application/vnd.jupyter.widget-view+json": {
       "model_id": "c4c1f0608f814c529fe7373d02da3ba6",
       "version_major": 2,
       "version_minor": 0
      },
      "text/plain": [
       "  0%|          | 0/100 [00:00<?, ?it/s]"
      ]
     },
     "metadata": {},
     "output_type": "display_data"
    },
    {
     "data": {
      "application/vnd.jupyter.widget-view+json": {
       "model_id": "b19c15b283ec4cb390d7bee7caf0dc03",
       "version_major": 2,
       "version_minor": 0
      },
      "text/plain": [
       "  0%|          | 0/100 [00:00<?, ?it/s]"
      ]
     },
     "metadata": {},
     "output_type": "display_data"
    },
    {
     "data": {
      "application/vnd.jupyter.widget-view+json": {
       "model_id": "2f4f799cc6a0443db1f7096af0b5f8c9",
       "version_major": 2,
       "version_minor": 0
      },
      "text/plain": [
       "  0%|          | 0/100 [00:00<?, ?it/s]"
      ]
     },
     "metadata": {},
     "output_type": "display_data"
    },
    {
     "data": {
      "application/vnd.jupyter.widget-view+json": {
       "model_id": "45dbb477d8cc432d946da314be89800d",
       "version_major": 2,
       "version_minor": 0
      },
      "text/plain": [
       "  0%|          | 0/100 [00:00<?, ?it/s]"
      ]
     },
     "metadata": {},
     "output_type": "display_data"
    },
    {
     "data": {
      "application/vnd.jupyter.widget-view+json": {
       "model_id": "7c515486ade743208aae92f26ffafe09",
       "version_major": 2,
       "version_minor": 0
      },
      "text/plain": [
       "  0%|          | 0/100 [00:00<?, ?it/s]"
      ]
     },
     "metadata": {},
     "output_type": "display_data"
    },
    {
     "data": {
      "application/vnd.jupyter.widget-view+json": {
       "model_id": "ec61956f3b6243f2ae4ab533811245a6",
       "version_major": 2,
       "version_minor": 0
      },
      "text/plain": [
       "  0%|          | 0/100 [00:00<?, ?it/s]"
      ]
     },
     "metadata": {},
     "output_type": "display_data"
    },
    {
     "data": {
      "application/vnd.jupyter.widget-view+json": {
       "model_id": "62ec95ff02d04f92be8cf3ae7cb6df01",
       "version_major": 2,
       "version_minor": 0
      },
      "text/plain": [
       "  0%|          | 0/100 [00:00<?, ?it/s]"
      ]
     },
     "metadata": {},
     "output_type": "display_data"
    },
    {
     "data": {
      "application/vnd.jupyter.widget-view+json": {
       "model_id": "03b1d456f8e74d2791cc0279e7c8deda",
       "version_major": 2,
       "version_minor": 0
      },
      "text/plain": [
       "  0%|          | 0/100 [00:00<?, ?it/s]"
      ]
     },
     "metadata": {},
     "output_type": "display_data"
    },
    {
     "data": {
      "application/vnd.jupyter.widget-view+json": {
       "model_id": "e23b693adbec42adbc732064f3fefcd6",
       "version_major": 2,
       "version_minor": 0
      },
      "text/plain": [
       "  0%|          | 0/100 [00:00<?, ?it/s]"
      ]
     },
     "metadata": {},
     "output_type": "display_data"
    },
    {
     "data": {
      "application/vnd.jupyter.widget-view+json": {
       "model_id": "7bbd20482ca8463eab6678793d536526",
       "version_major": 2,
       "version_minor": 0
      },
      "text/plain": [
       "  0%|          | 0/100 [00:00<?, ?it/s]"
      ]
     },
     "metadata": {},
     "output_type": "display_data"
    },
    {
     "data": {
      "application/vnd.jupyter.widget-view+json": {
       "model_id": "4765fe29a2374c1cbc4e59046741f669",
       "version_major": 2,
       "version_minor": 0
      },
      "text/plain": [
       "  0%|          | 0/100 [00:00<?, ?it/s]"
      ]
     },
     "metadata": {},
     "output_type": "display_data"
    },
    {
     "data": {
      "application/vnd.jupyter.widget-view+json": {
       "model_id": "20f84402a652447daa56fd5288c90c06",
       "version_major": 2,
       "version_minor": 0
      },
      "text/plain": [
       "  0%|          | 0/100 [00:00<?, ?it/s]"
      ]
     },
     "metadata": {},
     "output_type": "display_data"
    },
    {
     "data": {
      "application/vnd.jupyter.widget-view+json": {
       "model_id": "5775d505bccc4230927eb60860d6ad60",
       "version_major": 2,
       "version_minor": 0
      },
      "text/plain": [
       "  0%|          | 0/100 [00:00<?, ?it/s]"
      ]
     },
     "metadata": {},
     "output_type": "display_data"
    },
    {
     "data": {
      "application/vnd.jupyter.widget-view+json": {
       "model_id": "e25b6973deac4f96bdd44582ad22c87c",
       "version_major": 2,
       "version_minor": 0
      },
      "text/plain": [
       "  0%|          | 0/100 [00:00<?, ?it/s]"
      ]
     },
     "metadata": {},
     "output_type": "display_data"
    },
    {
     "data": {
      "application/vnd.jupyter.widget-view+json": {
       "model_id": "fbf0d67c96e944da995871f1b4ca7659",
       "version_major": 2,
       "version_minor": 0
      },
      "text/plain": [
       "  0%|          | 0/100 [00:00<?, ?it/s]"
      ]
     },
     "metadata": {},
     "output_type": "display_data"
    },
    {
     "data": {
      "application/vnd.jupyter.widget-view+json": {
       "model_id": "47e3d18903b14225ad51d282e6987fd8",
       "version_major": 2,
       "version_minor": 0
      },
      "text/plain": [
       "  0%|          | 0/100 [00:00<?, ?it/s]"
      ]
     },
     "metadata": {},
     "output_type": "display_data"
    },
    {
     "data": {
      "application/vnd.jupyter.widget-view+json": {
       "model_id": "05f80de0ff474f0d9884189838505daa",
       "version_major": 2,
       "version_minor": 0
      },
      "text/plain": [
       "  0%|          | 0/100 [00:00<?, ?it/s]"
      ]
     },
     "metadata": {},
     "output_type": "display_data"
    },
    {
     "data": {
      "application/vnd.jupyter.widget-view+json": {
       "model_id": "e9383db9fa074379a859813f7c41a00e",
       "version_major": 2,
       "version_minor": 0
      },
      "text/plain": [
       "  0%|          | 0/100 [00:00<?, ?it/s]"
      ]
     },
     "metadata": {},
     "output_type": "display_data"
    },
    {
     "data": {
      "application/vnd.jupyter.widget-view+json": {
       "model_id": "3bcdad031747473c9ec2dfbe1c972319",
       "version_major": 2,
       "version_minor": 0
      },
      "text/plain": [
       "  0%|          | 0/100 [00:00<?, ?it/s]"
      ]
     },
     "metadata": {},
     "output_type": "display_data"
    },
    {
     "data": {
      "application/vnd.jupyter.widget-view+json": {
       "model_id": "47d98cbf2f5a4e62b1474979c483ce96",
       "version_major": 2,
       "version_minor": 0
      },
      "text/plain": [
       "  0%|          | 0/100 [00:00<?, ?it/s]"
      ]
     },
     "metadata": {},
     "output_type": "display_data"
    },
    {
     "data": {
      "application/vnd.jupyter.widget-view+json": {
       "model_id": "ea8c06be58844c1ba8542adcc1f735d7",
       "version_major": 2,
       "version_minor": 0
      },
      "text/plain": [
       "  0%|          | 0/100 [00:00<?, ?it/s]"
      ]
     },
     "metadata": {},
     "output_type": "display_data"
    },
    {
     "data": {
      "application/vnd.jupyter.widget-view+json": {
       "model_id": "d5349f1809ee40a6bc450bbc3ce44b08",
       "version_major": 2,
       "version_minor": 0
      },
      "text/plain": [
       "  0%|          | 0/100 [00:00<?, ?it/s]"
      ]
     },
     "metadata": {},
     "output_type": "display_data"
    },
    {
     "data": {
      "application/vnd.jupyter.widget-view+json": {
       "model_id": "59fd2cbc1549451fb17e2fe66894b488",
       "version_major": 2,
       "version_minor": 0
      },
      "text/plain": [
       "  0%|          | 0/100 [00:00<?, ?it/s]"
      ]
     },
     "metadata": {},
     "output_type": "display_data"
    },
    {
     "data": {
      "application/vnd.jupyter.widget-view+json": {
       "model_id": "5571dd47498341bc90a477adec774b42",
       "version_major": 2,
       "version_minor": 0
      },
      "text/plain": [
       "  0%|          | 0/100 [00:00<?, ?it/s]"
      ]
     },
     "metadata": {},
     "output_type": "display_data"
    },
    {
     "data": {
      "application/vnd.jupyter.widget-view+json": {
       "model_id": "08abb3e889fc4da891b2db53f0aff39c",
       "version_major": 2,
       "version_minor": 0
      },
      "text/plain": [
       "  0%|          | 0/100 [00:00<?, ?it/s]"
      ]
     },
     "metadata": {},
     "output_type": "display_data"
    },
    {
     "data": {
      "application/vnd.jupyter.widget-view+json": {
       "model_id": "de2e73c247b049018fcda74676d63781",
       "version_major": 2,
       "version_minor": 0
      },
      "text/plain": [
       "  0%|          | 0/100 [00:00<?, ?it/s]"
      ]
     },
     "metadata": {},
     "output_type": "display_data"
    },
    {
     "data": {
      "application/vnd.jupyter.widget-view+json": {
       "model_id": "f8dd3ddadfa546b296b2baf18655d218",
       "version_major": 2,
       "version_minor": 0
      },
      "text/plain": [
       "  0%|          | 0/100 [00:00<?, ?it/s]"
      ]
     },
     "metadata": {},
     "output_type": "display_data"
    },
    {
     "data": {
      "application/vnd.jupyter.widget-view+json": {
       "model_id": "7d0eb2ce8f0e427fb5798cb71b927e80",
       "version_major": 2,
       "version_minor": 0
      },
      "text/plain": [
       "  0%|          | 0/100 [00:00<?, ?it/s]"
      ]
     },
     "metadata": {},
     "output_type": "display_data"
    },
    {
     "data": {
      "application/vnd.jupyter.widget-view+json": {
       "model_id": "e8ac60222e5240ff9d3c8af6aed59c43",
       "version_major": 2,
       "version_minor": 0
      },
      "text/plain": [
       "  0%|          | 0/100 [00:00<?, ?it/s]"
      ]
     },
     "metadata": {},
     "output_type": "display_data"
    },
    {
     "data": {
      "application/vnd.jupyter.widget-view+json": {
       "model_id": "1c9e4f6c6b614e62a1817d018a5a0b2a",
       "version_major": 2,
       "version_minor": 0
      },
      "text/plain": [
       "  0%|          | 0/100 [00:00<?, ?it/s]"
      ]
     },
     "metadata": {},
     "output_type": "display_data"
    },
    {
     "data": {
      "application/vnd.jupyter.widget-view+json": {
       "model_id": "e997015bf74644cabd7c9c411b7406a8",
       "version_major": 2,
       "version_minor": 0
      },
      "text/plain": [
       "  0%|          | 0/100 [00:00<?, ?it/s]"
      ]
     },
     "metadata": {},
     "output_type": "display_data"
    },
    {
     "data": {
      "application/vnd.jupyter.widget-view+json": {
       "model_id": "6b1b3a11293c47a5b9c57cb1eb29872e",
       "version_major": 2,
       "version_minor": 0
      },
      "text/plain": [
       "  0%|          | 0/100 [00:00<?, ?it/s]"
      ]
     },
     "metadata": {},
     "output_type": "display_data"
    },
    {
     "data": {
      "application/vnd.jupyter.widget-view+json": {
       "model_id": "1b0f66294ec34708bed64003a619e79e",
       "version_major": 2,
       "version_minor": 0
      },
      "text/plain": [
       "  0%|          | 0/100 [00:00<?, ?it/s]"
      ]
     },
     "metadata": {},
     "output_type": "display_data"
    },
    {
     "data": {
      "application/vnd.jupyter.widget-view+json": {
       "model_id": "fe4741cd20cf4af7ad49da48a7867fd8",
       "version_major": 2,
       "version_minor": 0
      },
      "text/plain": [
       "  0%|          | 0/100 [00:00<?, ?it/s]"
      ]
     },
     "metadata": {},
     "output_type": "display_data"
    },
    {
     "data": {
      "application/vnd.jupyter.widget-view+json": {
       "model_id": "9a3e1ad8a52b496c8e14254f70df74d7",
       "version_major": 2,
       "version_minor": 0
      },
      "text/plain": [
       "  0%|          | 0/100 [00:00<?, ?it/s]"
      ]
     },
     "metadata": {},
     "output_type": "display_data"
    },
    {
     "data": {
      "application/vnd.jupyter.widget-view+json": {
       "model_id": "30d9a3d06205474984f427e8a0206f85",
       "version_major": 2,
       "version_minor": 0
      },
      "text/plain": [
       "  0%|          | 0/100 [00:00<?, ?it/s]"
      ]
     },
     "metadata": {},
     "output_type": "display_data"
    },
    {
     "data": {
      "application/vnd.jupyter.widget-view+json": {
       "model_id": "9930fb71cb984c84a4778d8505a58fde",
       "version_major": 2,
       "version_minor": 0
      },
      "text/plain": [
       "  0%|          | 0/100 [00:00<?, ?it/s]"
      ]
     },
     "metadata": {},
     "output_type": "display_data"
    },
    {
     "data": {
      "application/vnd.jupyter.widget-view+json": {
       "model_id": "fd76f9cf339a4683834bb745731b3f9c",
       "version_major": 2,
       "version_minor": 0
      },
      "text/plain": [
       "  0%|          | 0/100 [00:00<?, ?it/s]"
      ]
     },
     "metadata": {},
     "output_type": "display_data"
    },
    {
     "data": {
      "application/vnd.jupyter.widget-view+json": {
       "model_id": "38c651f2d02640d29870ed9f84209890",
       "version_major": 2,
       "version_minor": 0
      },
      "text/plain": [
       "  0%|          | 0/100 [00:00<?, ?it/s]"
      ]
     },
     "metadata": {},
     "output_type": "display_data"
    },
    {
     "data": {
      "application/vnd.jupyter.widget-view+json": {
       "model_id": "cdff2b9f20aa4107be6d4b1b2575f1ca",
       "version_major": 2,
       "version_minor": 0
      },
      "text/plain": [
       "  0%|          | 0/100 [00:00<?, ?it/s]"
      ]
     },
     "metadata": {},
     "output_type": "display_data"
    },
    {
     "data": {
      "application/vnd.jupyter.widget-view+json": {
       "model_id": "2f1de1d2a7ab4a848cfb99ef5f6f94f9",
       "version_major": 2,
       "version_minor": 0
      },
      "text/plain": [
       "  0%|          | 0/100 [00:00<?, ?it/s]"
      ]
     },
     "metadata": {},
     "output_type": "display_data"
    },
    {
     "data": {
      "application/vnd.jupyter.widget-view+json": {
       "model_id": "0027424352914bfe8b60a463e33fdc45",
       "version_major": 2,
       "version_minor": 0
      },
      "text/plain": [
       "  0%|          | 0/100 [00:00<?, ?it/s]"
      ]
     },
     "metadata": {},
     "output_type": "display_data"
    },
    {
     "data": {
      "application/vnd.jupyter.widget-view+json": {
       "model_id": "2449f41d52014ef1981761f596af87bc",
       "version_major": 2,
       "version_minor": 0
      },
      "text/plain": [
       "  0%|          | 0/100 [00:00<?, ?it/s]"
      ]
     },
     "metadata": {},
     "output_type": "display_data"
    },
    {
     "data": {
      "application/vnd.jupyter.widget-view+json": {
       "model_id": "ef9d2507454340989f4630afb8b79ff7",
       "version_major": 2,
       "version_minor": 0
      },
      "text/plain": [
       "  0%|          | 0/100 [00:00<?, ?it/s]"
      ]
     },
     "metadata": {},
     "output_type": "display_data"
    },
    {
     "data": {
      "application/vnd.jupyter.widget-view+json": {
       "model_id": "b5e2c27b05f5414dbbeba8ab772daa2c",
       "version_major": 2,
       "version_minor": 0
      },
      "text/plain": [
       "  0%|          | 0/100 [00:00<?, ?it/s]"
      ]
     },
     "metadata": {},
     "output_type": "display_data"
    },
    {
     "data": {
      "application/vnd.jupyter.widget-view+json": {
       "model_id": "c33f5895c42f469f9f7e5b55cc593fb4",
       "version_major": 2,
       "version_minor": 0
      },
      "text/plain": [
       "  0%|          | 0/100 [00:00<?, ?it/s]"
      ]
     },
     "metadata": {},
     "output_type": "display_data"
    },
    {
     "data": {
      "application/vnd.jupyter.widget-view+json": {
       "model_id": "75c24276b8fd46a19b6065ce5613b78c",
       "version_major": 2,
       "version_minor": 0
      },
      "text/plain": [
       "  0%|          | 0/100 [00:00<?, ?it/s]"
      ]
     },
     "metadata": {},
     "output_type": "display_data"
    },
    {
     "data": {
      "application/vnd.jupyter.widget-view+json": {
       "model_id": "e22b5df050dc4803850fe700ec551d11",
       "version_major": 2,
       "version_minor": 0
      },
      "text/plain": [
       "  0%|          | 0/100 [00:00<?, ?it/s]"
      ]
     },
     "metadata": {},
     "output_type": "display_data"
    },
    {
     "data": {
      "application/vnd.jupyter.widget-view+json": {
       "model_id": "2952126b2b20420eaecb0958e921abbd",
       "version_major": 2,
       "version_minor": 0
      },
      "text/plain": [
       "  0%|          | 0/100 [00:00<?, ?it/s]"
      ]
     },
     "metadata": {},
     "output_type": "display_data"
    },
    {
     "data": {
      "application/vnd.jupyter.widget-view+json": {
       "model_id": "374017cf77584a64a50f2362b9ca9b44",
       "version_major": 2,
       "version_minor": 0
      },
      "text/plain": [
       "  0%|          | 0/100 [00:00<?, ?it/s]"
      ]
     },
     "metadata": {},
     "output_type": "display_data"
    },
    {
     "data": {
      "application/vnd.jupyter.widget-view+json": {
       "model_id": "b6b2eac05cfc4d4096dd4f1071804566",
       "version_major": 2,
       "version_minor": 0
      },
      "text/plain": [
       "  0%|          | 0/100 [00:00<?, ?it/s]"
      ]
     },
     "metadata": {},
     "output_type": "display_data"
    },
    {
     "data": {
      "application/vnd.jupyter.widget-view+json": {
       "model_id": "cb6ac0df3673410eab9b5f9635a2c1d2",
       "version_major": 2,
       "version_minor": 0
      },
      "text/plain": [
       "  0%|          | 0/100 [00:00<?, ?it/s]"
      ]
     },
     "metadata": {},
     "output_type": "display_data"
    },
    {
     "data": {
      "application/vnd.jupyter.widget-view+json": {
       "model_id": "773a7edfc68d4e07acef4d6b0dff120e",
       "version_major": 2,
       "version_minor": 0
      },
      "text/plain": [
       "  0%|          | 0/100 [00:00<?, ?it/s]"
      ]
     },
     "metadata": {},
     "output_type": "display_data"
    },
    {
     "data": {
      "application/vnd.jupyter.widget-view+json": {
       "model_id": "2c4ffc4e3c134d5981e5ca30e33f0393",
       "version_major": 2,
       "version_minor": 0
      },
      "text/plain": [
       "  0%|          | 0/100 [00:00<?, ?it/s]"
      ]
     },
     "metadata": {},
     "output_type": "display_data"
    },
    {
     "data": {
      "application/vnd.jupyter.widget-view+json": {
       "model_id": "87a861c0f58b4c1e9268401f3b662f0f",
       "version_major": 2,
       "version_minor": 0
      },
      "text/plain": [
       "  0%|          | 0/100 [00:00<?, ?it/s]"
      ]
     },
     "metadata": {},
     "output_type": "display_data"
    },
    {
     "data": {
      "application/vnd.jupyter.widget-view+json": {
       "model_id": "7ff62b6f72c54ad3881068f1cfaa3305",
       "version_major": 2,
       "version_minor": 0
      },
      "text/plain": [
       "  0%|          | 0/100 [00:00<?, ?it/s]"
      ]
     },
     "metadata": {},
     "output_type": "display_data"
    },
    {
     "data": {
      "application/vnd.jupyter.widget-view+json": {
       "model_id": "5f7c0467b95b4ec0b6cb1499a9ce57cb",
       "version_major": 2,
       "version_minor": 0
      },
      "text/plain": [
       "  0%|          | 0/100 [00:00<?, ?it/s]"
      ]
     },
     "metadata": {},
     "output_type": "display_data"
    },
    {
     "data": {
      "application/vnd.jupyter.widget-view+json": {
       "model_id": "818c3c17881f40f898b30a2b33eae250",
       "version_major": 2,
       "version_minor": 0
      },
      "text/plain": [
       "  0%|          | 0/100 [00:00<?, ?it/s]"
      ]
     },
     "metadata": {},
     "output_type": "display_data"
    },
    {
     "data": {
      "application/vnd.jupyter.widget-view+json": {
       "model_id": "7db469d351324f9190763bef36aa41dd",
       "version_major": 2,
       "version_minor": 0
      },
      "text/plain": [
       "  0%|          | 0/100 [00:00<?, ?it/s]"
      ]
     },
     "metadata": {},
     "output_type": "display_data"
    },
    {
     "data": {
      "application/vnd.jupyter.widget-view+json": {
       "model_id": "87eb4f466a48465f88d58c8d7f6c20ea",
       "version_major": 2,
       "version_minor": 0
      },
      "text/plain": [
       "  0%|          | 0/100 [00:00<?, ?it/s]"
      ]
     },
     "metadata": {},
     "output_type": "display_data"
    },
    {
     "data": {
      "application/vnd.jupyter.widget-view+json": {
       "model_id": "d1cbdf9c86e74a2a9af00c31cb00d76d",
       "version_major": 2,
       "version_minor": 0
      },
      "text/plain": [
       "  0%|          | 0/100 [00:00<?, ?it/s]"
      ]
     },
     "metadata": {},
     "output_type": "display_data"
    },
    {
     "data": {
      "application/vnd.jupyter.widget-view+json": {
       "model_id": "1bd610292b7e4941ac3bdbf6f95bda3d",
       "version_major": 2,
       "version_minor": 0
      },
      "text/plain": [
       "  0%|          | 0/100 [00:00<?, ?it/s]"
      ]
     },
     "metadata": {},
     "output_type": "display_data"
    },
    {
     "data": {
      "application/vnd.jupyter.widget-view+json": {
       "model_id": "4b1adcfbe9a6470f8646261d0faae0b2",
       "version_major": 2,
       "version_minor": 0
      },
      "text/plain": [
       "  0%|          | 0/100 [00:00<?, ?it/s]"
      ]
     },
     "metadata": {},
     "output_type": "display_data"
    },
    {
     "data": {
      "application/vnd.jupyter.widget-view+json": {
       "model_id": "1a414d00520a4cd18162ae3ac6672fcb",
       "version_major": 2,
       "version_minor": 0
      },
      "text/plain": [
       "  0%|          | 0/100 [00:00<?, ?it/s]"
      ]
     },
     "metadata": {},
     "output_type": "display_data"
    },
    {
     "data": {
      "application/vnd.jupyter.widget-view+json": {
       "model_id": "296c83b5559046d78d0dfe153d9aa7d8",
       "version_major": 2,
       "version_minor": 0
      },
      "text/plain": [
       "  0%|          | 0/100 [00:00<?, ?it/s]"
      ]
     },
     "metadata": {},
     "output_type": "display_data"
    },
    {
     "data": {
      "application/vnd.jupyter.widget-view+json": {
       "model_id": "5160d37c79204fff9af4e315f4dbde39",
       "version_major": 2,
       "version_minor": 0
      },
      "text/plain": [
       "  0%|          | 0/100 [00:00<?, ?it/s]"
      ]
     },
     "metadata": {},
     "output_type": "display_data"
    },
    {
     "data": {
      "application/vnd.jupyter.widget-view+json": {
       "model_id": "78a226d6d8a0471bb6d6de27d0b38700",
       "version_major": 2,
       "version_minor": 0
      },
      "text/plain": [
       "  0%|          | 0/100 [00:00<?, ?it/s]"
      ]
     },
     "metadata": {},
     "output_type": "display_data"
    },
    {
     "data": {
      "application/vnd.jupyter.widget-view+json": {
       "model_id": "ed36a12c020f420cb6830acf684fa6a4",
       "version_major": 2,
       "version_minor": 0
      },
      "text/plain": [
       "  0%|          | 0/100 [00:00<?, ?it/s]"
      ]
     },
     "metadata": {},
     "output_type": "display_data"
    },
    {
     "data": {
      "application/vnd.jupyter.widget-view+json": {
       "model_id": "5e342e5689c2497db04eead1abbb26a3",
       "version_major": 2,
       "version_minor": 0
      },
      "text/plain": [
       "  0%|          | 0/100 [00:00<?, ?it/s]"
      ]
     },
     "metadata": {},
     "output_type": "display_data"
    },
    {
     "data": {
      "application/vnd.jupyter.widget-view+json": {
       "model_id": "e4c6f7f111d5473090e7e4487f8a567a",
       "version_major": 2,
       "version_minor": 0
      },
      "text/plain": [
       "  0%|          | 0/100 [00:00<?, ?it/s]"
      ]
     },
     "metadata": {},
     "output_type": "display_data"
    },
    {
     "data": {
      "application/vnd.jupyter.widget-view+json": {
       "model_id": "78d89483eba9432996e8bfb3e22bff60",
       "version_major": 2,
       "version_minor": 0
      },
      "text/plain": [
       "  0%|          | 0/100 [00:00<?, ?it/s]"
      ]
     },
     "metadata": {},
     "output_type": "display_data"
    },
    {
     "data": {
      "application/vnd.jupyter.widget-view+json": {
       "model_id": "318caea5eccf4891846925282fb2f7e4",
       "version_major": 2,
       "version_minor": 0
      },
      "text/plain": [
       "  0%|          | 0/100 [00:00<?, ?it/s]"
      ]
     },
     "metadata": {},
     "output_type": "display_data"
    },
    {
     "data": {
      "application/vnd.jupyter.widget-view+json": {
       "model_id": "55b64aca53b241a181323fcd0b74a92c",
       "version_major": 2,
       "version_minor": 0
      },
      "text/plain": [
       "  0%|          | 0/100 [00:00<?, ?it/s]"
      ]
     },
     "metadata": {},
     "output_type": "display_data"
    },
    {
     "data": {
      "application/vnd.jupyter.widget-view+json": {
       "model_id": "da4325a76792437daf2a7abc6c2f236e",
       "version_major": 2,
       "version_minor": 0
      },
      "text/plain": [
       "  0%|          | 0/100 [00:00<?, ?it/s]"
      ]
     },
     "metadata": {},
     "output_type": "display_data"
    },
    {
     "data": {
      "application/vnd.jupyter.widget-view+json": {
       "model_id": "f85fb6fd998b4ee09e2b2892aa609d61",
       "version_major": 2,
       "version_minor": 0
      },
      "text/plain": [
       "  0%|          | 0/100 [00:00<?, ?it/s]"
      ]
     },
     "metadata": {},
     "output_type": "display_data"
    },
    {
     "data": {
      "application/vnd.jupyter.widget-view+json": {
       "model_id": "fadeae2d4ce8427789349f5e2b4175fc",
       "version_major": 2,
       "version_minor": 0
      },
      "text/plain": [
       "  0%|          | 0/100 [00:00<?, ?it/s]"
      ]
     },
     "metadata": {},
     "output_type": "display_data"
    },
    {
     "data": {
      "application/vnd.jupyter.widget-view+json": {
       "model_id": "faa40e97a2154ad8a2457745ed456446",
       "version_major": 2,
       "version_minor": 0
      },
      "text/plain": [
       "  0%|          | 0/100 [00:00<?, ?it/s]"
      ]
     },
     "metadata": {},
     "output_type": "display_data"
    },
    {
     "data": {
      "application/vnd.jupyter.widget-view+json": {
       "model_id": "f60c314b75bc46b8a74d44c361eeabde",
       "version_major": 2,
       "version_minor": 0
      },
      "text/plain": [
       "  0%|          | 0/100 [00:00<?, ?it/s]"
      ]
     },
     "metadata": {},
     "output_type": "display_data"
    },
    {
     "data": {
      "application/vnd.jupyter.widget-view+json": {
       "model_id": "9d4b1af96d4f43c396913032ca2700e9",
       "version_major": 2,
       "version_minor": 0
      },
      "text/plain": [
       "  0%|          | 0/100 [00:00<?, ?it/s]"
      ]
     },
     "metadata": {},
     "output_type": "display_data"
    },
    {
     "data": {
      "application/vnd.jupyter.widget-view+json": {
       "model_id": "46a0509866f848d19c879f58a11a9d5f",
       "version_major": 2,
       "version_minor": 0
      },
      "text/plain": [
       "  0%|          | 0/100 [00:00<?, ?it/s]"
      ]
     },
     "metadata": {},
     "output_type": "display_data"
    },
    {
     "data": {
      "application/vnd.jupyter.widget-view+json": {
       "model_id": "9b070ec08bb74c34af57e89cad1a8bbf",
       "version_major": 2,
       "version_minor": 0
      },
      "text/plain": [
       "  0%|          | 0/100 [00:00<?, ?it/s]"
      ]
     },
     "metadata": {},
     "output_type": "display_data"
    },
    {
     "data": {
      "application/vnd.jupyter.widget-view+json": {
       "model_id": "903cb986072f4189ac77550765a027ee",
       "version_major": 2,
       "version_minor": 0
      },
      "text/plain": [
       "  0%|          | 0/100 [00:00<?, ?it/s]"
      ]
     },
     "metadata": {},
     "output_type": "display_data"
    }
   ],
   "source": [
    "paths = []\n",
    "for condition in MG.conditions:\n",
    "    logsig = MG.generate(condition)\n",
    "    recovered_path, loss = logsig_inversion.train(logsig, order, n_iterations, n_organisms, n_points,\n",
    "                                                  pip, n_pips)\n",
    "    \n",
    "    paths.append(recovered_path)"
   ]
  },
  {
   "cell_type": "code",
   "execution_count": 39,
   "metadata": {},
   "outputs": [
    {
     "data": {
      "text/plain": [
       "[array([[1455.2199707 , 1455.2199707 ],\n",
       "        [1455.2199707 , 1399.42004395],\n",
       "        [1399.42004395, 1399.42004395],\n",
       "        [1399.42004395, 1402.10998535],\n",
       "        [1402.10998535, 1402.10998535],\n",
       "        [1402.10998535, 1403.44995117],\n",
       "        [1403.44995117, 1403.44995117],\n",
       "        [1403.44995117, 1441.4699707 ],\n",
       "        [1441.4699707 , 1441.4699707 ],\n",
       "        [1441.4699707 , 1457.59997559],\n",
       "        [1457.59997559, 1457.59997559],\n",
       "        [1457.59997559, 1438.56005859],\n",
       "        [1438.56005859, 1438.56005859],\n",
       "        [1438.56005859, 1432.25      ],\n",
       "        [1432.25      , 1432.25      ],\n",
       "        [1432.25      , 1449.68005371],\n",
       "        [1449.68005371, 1449.68005371],\n",
       "        [1449.68005371, 1465.15002441],\n",
       "        [1465.15002441, 1465.15002441],\n",
       "        [1465.15002441, 1455.14001465],\n",
       "        [1455.14001465, 1455.14001465],\n",
       "        [1455.14001465, 1455.90002441],\n",
       "        [1455.90002441, 1455.90002441],\n",
       "        [1455.90002441, 1445.56994629],\n",
       "        [1445.56994629, 1445.56994629],\n",
       "        [1445.56994629, 1441.35998535],\n",
       "        [1441.35998535, 1441.35998535],\n",
       "        [1441.35998535, 1401.5300293 ],\n",
       "        [1401.5300293 , 1401.5300293 ],\n",
       "        [1401.5300293 , 1410.0300293 ],\n",
       "        [1410.0300293 , 1410.0300293 ],\n",
       "        [1410.0300293 , 1404.08996582],\n",
       "        [1404.08996582, 1404.08996582],\n",
       "        [1404.08996582, 1398.56005859],\n",
       "        [1398.56005859, 1398.56005859],\n",
       "        [1398.56005859, 1360.16003418],\n",
       "        [1360.16003418, 1360.16003418],\n",
       "        [1360.16003418, 1394.45996094],\n",
       "        [1394.45996094, 1394.45996094]]),\n",
       " array([[1409.2800293 , 1409.2800293 ],\n",
       "        [1409.2800293 , 1409.11999512],\n",
       "        [1409.11999512, 1409.11999512],\n",
       "        [1409.11999512, 1424.9699707 ],\n",
       "        [1424.9699707 , 1424.9699707 ],\n",
       "        [1424.9699707 , 1424.36999512],\n",
       "        [1424.36999512, 1424.36999512],\n",
       "        [1424.36999512, 1424.23999023],\n",
       "        [1424.23999023, 1424.23999023],\n",
       "        [1424.23999023, 1441.7199707 ],\n",
       "        [1441.7199707 , 1441.7199707 ],\n",
       "        [1441.7199707 , 1411.70996094],\n",
       "        [1411.70996094, 1411.70996094],\n",
       "        [1411.70996094, 1416.82995605],\n",
       "        [1416.82995605, 1416.82995605],\n",
       "        [1416.82995605, 1387.11999512],\n",
       "        [1387.11999512, 1387.11999512],\n",
       "        [1387.11999512, 1389.93994141],\n",
       "        [1389.93994141, 1389.93994141],\n",
       "        [1389.93994141, 1402.05004883],\n",
       "        [1402.05004883, 1402.05004883],\n",
       "        [1402.05004883, 1387.67004395],\n",
       "        [1387.67004395, 1387.67004395],\n",
       "        [1387.67004395, 1388.26000977],\n",
       "        [1388.26000977, 1388.26000977],\n",
       "        [1388.26000977, 1346.08996582],\n",
       "        [1346.08996582, 1346.08996582],\n",
       "        [1346.08996582, 1352.17004395],\n",
       "        [1352.17004395, 1352.17004395],\n",
       "        [1352.17004395, 1360.68994141],\n",
       "        [1360.68994141, 1360.68994141],\n",
       "        [1360.68994141, 1353.43005371],\n",
       "        [1353.43005371, 1353.43005371],\n",
       "        [1353.43005371, 1333.35998535],\n",
       "        [1333.35998535, 1333.35998535],\n",
       "        [1333.35998535, 1348.05004883],\n",
       "        [1348.05004883, 1348.05004883],\n",
       "        [1348.05004883, 1366.42004395],\n",
       "        [1366.42004395, 1366.42004395]]),\n",
       " array([[1379.18994141, 1379.18994141],\n",
       "        [1379.18994141, 1381.76000977],\n",
       "        [1381.76000977, 1381.76000977],\n",
       "        [1381.76000977, 1409.17004395],\n",
       "        [1409.17004395, 1409.17004395],\n",
       "        [1409.17004395, 1391.2800293 ],\n",
       "        [1391.2800293 , 1391.2800293 ],\n",
       "        [1391.2800293 , 1355.61999512],\n",
       "        [1355.61999512, 1355.61999512],\n",
       "        [1355.61999512, 1366.69995117],\n",
       "        [1366.69995117, 1366.69995117],\n",
       "        [1366.69995117, 1401.68994141],\n",
       "        [1401.68994141, 1401.68994141],\n",
       "        [1401.68994141, 1395.06994629],\n",
       "        [1395.06994629, 1395.06994629],\n",
       "        [1395.06994629, 1383.61999512],\n",
       "        [1383.61999512, 1383.61999512],\n",
       "        [1383.61999512, 1359.15002441],\n",
       "        [1359.15002441, 1359.15002441],\n",
       "        [1359.15002441, 1392.14001465],\n",
       "        [1392.14001465, 1392.14001465],\n",
       "        [1392.14001465, 1458.4699707 ],\n",
       "        [1458.4699707 , 1458.4699707 ],\n",
       "        [1458.4699707 , 1464.4699707 ],\n",
       "        [1464.4699707 , 1464.4699707 ],\n",
       "        [1464.4699707 , 1456.63000488],\n",
       "        [1456.63000488, 1456.63000488],\n",
       "        [1456.63000488, 1493.86999512],\n",
       "        [1493.86999512, 1493.86999512],\n",
       "        [1493.86999512, 1500.64001465],\n",
       "        [1500.64001465, 1500.64001465],\n",
       "        [1500.64001465, 1527.34997559],\n",
       "        [1527.34997559, 1527.34997559],\n",
       "        [1527.34997559, 1527.45996094],\n",
       "        [1527.45996094, 1527.45996094],\n",
       "        [1527.45996094, 1523.85998535],\n",
       "        [1523.85998535, 1523.85998535],\n",
       "        [1523.85998535, 1507.72998047],\n",
       "        [1507.72998047, 1507.72998047],\n",
       "        [1507.72998047, 1508.52001953],\n",
       "        [1508.52001953, 1508.52001953],\n",
       "        [1508.52001953, 1487.92004395],\n",
       "        [1487.92004395, 1487.92004395],\n",
       "        [1487.92004395, 1498.57995605],\n",
       "        [1498.57995605, 1498.57995605]]),\n",
       " array([[1505.9699707 , 1505.9699707 ],\n",
       "        [1505.9699707 , 1494.72998047],\n",
       "        [1494.72998047, 1494.72998047],\n",
       "        [1494.72998047, 1487.36999512],\n",
       "        [1487.36999512, 1487.36999512],\n",
       "        [1487.36999512, 1501.33996582],\n",
       "        [1501.33996582, 1501.33996582],\n",
       "        [1501.33996582, 1516.34997559],\n",
       "        [1516.34997559, 1516.34997559],\n",
       "        [1516.34997559, 1504.45996094],\n",
       "        [1504.45996094, 1504.45996094],\n",
       "        [1504.45996094, 1500.58996582],\n",
       "        [1500.58996582, 1500.58996582],\n",
       "        [1500.58996582, 1467.17004395],\n",
       "        [1467.17004395, 1467.17004395],\n",
       "        [1467.17004395, 1440.51000977],\n",
       "        [1440.51000977, 1440.51000977],\n",
       "        [1440.51000977, 1356.56005859],\n",
       "        [1356.56005859, 1356.56005859],\n",
       "        [1356.56005859, 1401.43994141],\n",
       "        [1401.43994141, 1401.43994141],\n",
       "        [1401.43994141, 1441.60998535],\n",
       "        [1441.60998535, 1441.60998535],\n",
       "        [1441.60998535, 1427.4699707 ],\n",
       "        [1427.4699707 , 1427.4699707 ],\n",
       "        [1427.4699707 , 1434.54003906],\n",
       "        [1434.54003906, 1434.54003906],\n",
       "        [1434.54003906, 1429.85998535],\n",
       "        [1429.85998535, 1429.85998535],\n",
       "        [1429.85998535, 1477.43994141],\n",
       "        [1477.43994141, 1477.43994141],\n",
       "        [1477.43994141, 1460.98999023],\n",
       "        [1460.98999023, 1460.98999023],\n",
       "        [1460.98999023, 1464.92004395],\n",
       "        [1464.92004395, 1464.92004395],\n",
       "        [1464.92004395, 1452.43005371],\n",
       "        [1452.43005371, 1452.43005371]]),\n",
       " array([[1468.25      , 1468.25      ],\n",
       "        [1468.25      , 1446.29003906],\n",
       "        [1446.29003906, 1446.29003906],\n",
       "        [1446.29003906, 1415.09997559],\n",
       "        [1415.09997559, 1415.09997559],\n",
       "        [1415.09997559, 1409.56994629],\n",
       "        [1409.56994629, 1409.56994629],\n",
       "        [1409.56994629, 1432.63000488],\n",
       "        [1432.63000488, 1432.63000488],\n",
       "        [1432.63000488, 1424.17004395],\n",
       "        [1424.17004395, 1424.17004395],\n",
       "        [1424.17004395, 1412.14001465],\n",
       "        [1412.14001465, 1412.14001465],\n",
       "        [1412.14001465, 1383.05004883],\n",
       "        [1383.05004883, 1383.05004883],\n",
       "        [1383.05004883, 1407.81005859],\n",
       "        [1407.81005859, 1407.81005859],\n",
       "        [1407.81005859, 1420.95996094],\n",
       "        [1420.95996094, 1420.95996094],\n",
       "        [1420.95996094, 1452.35998535],\n",
       "        [1452.35998535, 1452.35998535],\n",
       "        [1452.35998535, 1466.04003906],\n",
       "        [1466.04003906, 1466.04003906],\n",
       "        [1466.04003906, 1447.80004883],\n",
       "        [1447.80004883, 1447.80004883],\n",
       "        [1447.80004883, 1437.20996094],\n",
       "        [1437.20996094, 1437.20996094],\n",
       "        [1437.20996094, 1406.94995117],\n",
       "        [1406.94995117, 1406.94995117],\n",
       "        [1406.94995117, 1400.7199707 ],\n",
       "        [1400.7199707 , 1400.7199707 ],\n",
       "        [1400.7199707 , 1373.85998535],\n",
       "        [1373.85998535, 1373.85998535],\n",
       "        [1373.85998535, 1399.05004883],\n",
       "        [1399.05004883, 1399.05004883],\n",
       "        [1399.05004883, 1381.52001953],\n",
       "        [1381.52001953, 1381.52001953],\n",
       "        [1381.52001953, 1378.02001953],\n",
       "        [1378.02001953, 1378.02001953],\n",
       "        [1378.02001953, 1422.44995117],\n",
       "        [1422.44995117, 1422.44995117],\n",
       "        [1422.44995117, 1420.59997559],\n",
       "        [1420.59997559, 1420.59997559]]),\n",
       " array([[1448.81005859, 1448.81005859],\n",
       "        [1448.81005859, 1477.26000977],\n",
       "        [1477.26000977, 1477.26000977],\n",
       "        [1477.26000977, 1467.63000488],\n",
       "        [1467.63000488, 1467.63000488],\n",
       "        [1467.63000488, 1457.83996582],\n",
       "        [1457.83996582, 1457.83996582],\n",
       "        [1457.83996582, 1471.35998535],\n",
       "        [1471.35998535, 1471.35998535],\n",
       "        [1471.35998535, 1461.67004395],\n",
       "        [1461.67004395, 1461.67004395],\n",
       "        [1461.67004395, 1456.94995117],\n",
       "        [1456.94995117, 1456.94995117],\n",
       "        [1456.94995117, 1446.        ],\n",
       "        [1446.        , 1446.        ],\n",
       "        [1446.        , 1469.43994141],\n",
       "        [1469.43994141, 1469.43994141],\n",
       "        [1469.43994141, 1470.54003906],\n",
       "        [1470.54003906, 1470.54003906],\n",
       "        [1470.54003906, 1478.72998047],\n",
       "        [1478.72998047, 1478.72998047],\n",
       "        [1478.72998047, 1464.45996094],\n",
       "        [1464.45996094, 1464.45996094],\n",
       "        [1464.45996094, 1486.        ],\n",
       "        [1486.        , 1486.        ],\n",
       "        [1486.        , 1475.94995117],\n",
       "        [1475.94995117, 1475.94995117],\n",
       "        [1475.94995117, 1479.13000488],\n",
       "        [1479.13000488, 1479.13000488],\n",
       "        [1479.13000488, 1452.18005371],\n",
       "        [1452.18005371, 1452.18005371],\n",
       "        [1452.18005371, 1441.47998047],\n",
       "        [1441.47998047, 1441.47998047],\n",
       "        [1441.47998047, 1455.31005859],\n",
       "        [1455.31005859, 1455.31005859],\n",
       "        [1455.31005859, 1450.55004883],\n",
       "        [1450.55004883, 1450.55004883],\n",
       "        [1450.55004883, 1454.81994629],\n",
       "        [1454.81994629, 1454.81994629],\n",
       "        [1454.81994629, 1442.39001465],\n",
       "        [1442.39001465, 1442.39001465],\n",
       "        [1442.39001465, 1454.59997559],\n",
       "        [1454.59997559, 1454.59997559]]),\n",
       " array([[1469.54003906, 1469.54003906],\n",
       "        [1469.54003906, 1446.22998047],\n",
       "        [1446.22998047, 1446.22998047],\n",
       "        [1446.22998047, 1456.67004395],\n",
       "        [1456.67004395, 1456.67004395],\n",
       "        [1456.67004395, 1478.90002441],\n",
       "        [1478.90002441, 1478.90002441],\n",
       "        [1478.90002441, 1475.61999512],\n",
       "        [1475.61999512, 1475.61999512],\n",
       "        [1475.61999512, 1480.88000488],\n",
       "        [1480.88000488, 1480.88000488],\n",
       "        [1480.88000488, 1492.92004395],\n",
       "        [1492.92004395, 1492.92004395],\n",
       "        [1492.92004395, 1495.83996582],\n",
       "        [1495.83996582, 1495.83996582],\n",
       "        [1495.83996582, 1509.97998047],\n",
       "        [1509.97998047, 1509.97998047],\n",
       "        [1509.97998047, 1510.48999023],\n",
       "        [1510.48999023, 1510.48999023],\n",
       "        [1510.48999023, 1493.73999023],\n",
       "        [1493.73999023, 1493.73999023],\n",
       "        [1493.73999023, 1481.95996094],\n",
       "        [1481.95996094, 1481.95996094],\n",
       "        [1481.95996094, 1495.56994629],\n",
       "        [1495.56994629, 1495.56994629],\n",
       "        [1495.56994629, 1480.18994141],\n",
       "        [1480.18994141, 1480.18994141],\n",
       "        [1480.18994141, 1464.29003906],\n",
       "        [1464.29003906, 1464.29003906],\n",
       "        [1464.29003906, 1474.4699707 ],\n",
       "        [1474.4699707 , 1474.4699707 ],\n",
       "        [1474.4699707 , 1452.42004395],\n",
       "        [1452.42004395, 1452.42004395],\n",
       "        [1452.42004395, 1449.61999512],\n",
       "        [1449.61999512, 1449.61999512],\n",
       "        [1449.61999512, 1419.89001465],\n",
       "        [1419.89001465, 1419.89001465],\n",
       "        [1419.89001465, 1430.82995605],\n",
       "        [1430.82995605, 1430.82995605]]),\n",
       " array([[1438.09997559, 1438.09997559],\n",
       "        [1438.09997559, 1438.69995117],\n",
       "        [1438.69995117, 1438.69995117],\n",
       "        [1438.69995117, 1452.56005859],\n",
       "        [1452.56005859, 1452.56005859],\n",
       "        [1452.56005859, 1462.93005371],\n",
       "        [1462.93005371, 1462.93005371],\n",
       "        [1462.93005371, 1479.31994629],\n",
       "        [1479.31994629, 1479.31994629],\n",
       "        [1479.31994629, 1482.80004883],\n",
       "        [1482.80004883, 1482.80004883],\n",
       "        [1482.80004883, 1472.86999512],\n",
       "        [1472.86999512, 1472.86999512],\n",
       "        [1472.86999512, 1460.25      ],\n",
       "        [1460.25      , 1460.25      ],\n",
       "        [1460.25      , 1471.83996582],\n",
       "        [1471.83996582, 1471.83996582],\n",
       "        [1471.83996582, 1491.56005859],\n",
       "        [1491.56005859, 1491.56005859],\n",
       "        [1491.56005859, 1484.43005371],\n",
       "        [1484.43005371, 1484.43005371],\n",
       "        [1484.43005371, 1479.84997559],\n",
       "        [1479.84997559, 1479.84997559],\n",
       "        [1479.84997559, 1496.06994629],\n",
       "        [1496.06994629, 1496.06994629],\n",
       "        [1496.06994629, 1491.7199707 ],\n",
       "        [1491.7199707 , 1491.7199707 ],\n",
       "        [1491.7199707 , 1499.47998047],\n",
       "        [1499.47998047, 1499.47998047],\n",
       "        [1499.47998047, 1498.13000488],\n",
       "        [1498.13000488, 1498.13000488],\n",
       "        [1498.13000488, 1505.9699707 ],\n",
       "        [1505.9699707 , 1505.9699707 ],\n",
       "        [1505.9699707 , 1508.31005859],\n",
       "        [1508.31005859, 1508.31005859],\n",
       "        [1508.31005859, 1506.44995117],\n",
       "        [1506.44995117, 1506.44995117],\n",
       "        [1506.44995117, 1514.08996582],\n",
       "        [1514.08996582, 1514.08996582],\n",
       "        [1514.08996582, 1509.83996582],\n",
       "        [1509.83996582, 1509.83996582],\n",
       "        [1509.83996582, 1502.58996582],\n",
       "        [1502.58996582, 1502.58996582],\n",
       "        [1502.58996582, 1517.68005371],\n",
       "        [1517.68005371, 1517.68005371]]),\n",
       " array([[1520.77001953, 1520.77001953],\n",
       "        [1520.77001953, 1507.07995605],\n",
       "        [1507.07995605, 1507.07995605],\n",
       "        [1507.07995605, 1492.25      ],\n",
       "        [1492.25      , 1492.25      ],\n",
       "        [1492.25      , 1502.51000977],\n",
       "        [1502.51000977, 1502.51000977],\n",
       "        [1502.51000977, 1494.5       ],\n",
       "        [1494.5       , 1494.5       ],\n",
       "        [1494.5       , 1489.26000977],\n",
       "        [1489.26000977, 1489.26000977],\n",
       "        [1489.26000977, 1481.98999023],\n",
       "        [1481.98999023, 1481.98999023],\n",
       "        [1481.98999023, 1484.91003418],\n",
       "        [1484.91003418, 1484.91003418],\n",
       "        [1484.91003418, 1480.86999512],\n",
       "        [1480.86999512, 1480.86999512],\n",
       "        [1480.86999512, 1465.81005859],\n",
       "        [1465.81005859, 1465.81005859],\n",
       "        [1465.81005859, 1444.51000977],\n",
       "        [1444.51000977, 1444.51000977],\n",
       "        [1444.51000977, 1459.90002441],\n",
       "        [1459.90002441, 1459.90002441],\n",
       "        [1459.90002441, 1451.33996582],\n",
       "        [1451.33996582, 1451.33996582],\n",
       "        [1451.33996582, 1449.05004883],\n",
       "        [1449.05004883, 1449.05004883],\n",
       "        [1449.05004883, 1448.7199707 ],\n",
       "        [1448.7199707 , 1448.7199707 ],\n",
       "        [1448.7199707 , 1439.0300293 ],\n",
       "        [1439.0300293 , 1439.0300293 ],\n",
       "        [1439.0300293 , 1427.20996094],\n",
       "        [1427.20996094, 1427.20996094],\n",
       "        [1427.20996094, 1426.56994629],\n",
       "        [1426.56994629, 1426.56994629],\n",
       "        [1426.56994629, 1458.29003906],\n",
       "        [1458.29003906, 1458.29003906],\n",
       "        [1458.29003906, 1436.51000977],\n",
       "        [1436.51000977, 1436.51000977]]),\n",
       " array([[1436.22998047, 1436.22998047],\n",
       "        [1436.22998047, 1426.45996094],\n",
       "        [1426.45996094, 1426.45996094],\n",
       "        [1426.45996094, 1434.31994629],\n",
       "        [1434.31994629, 1434.31994629],\n",
       "        [1434.31994629, 1436.2800293 ],\n",
       "        [1436.2800293 , 1436.2800293 ],\n",
       "        [1436.2800293 , 1408.98999023],\n",
       "        [1408.98999023, 1408.98999023],\n",
       "        [1408.98999023, 1402.0300293 ],\n",
       "        [1402.0300293 , 1402.0300293 ],\n",
       "        [1402.0300293 , 1387.02001953],\n",
       "        [1387.02001953, 1387.02001953],\n",
       "        [1387.02001953, 1364.58996582],\n",
       "        [1364.58996582, 1364.58996582],\n",
       "        [1364.58996582, 1329.7800293 ],\n",
       "        [1329.7800293 , 1329.7800293 ],\n",
       "        [1329.7800293 , 1374.17004395],\n",
       "        [1374.17004395, 1374.17004395],\n",
       "        [1374.17004395, 1374.61999512],\n",
       "        [1374.61999512, 1374.61999512],\n",
       "        [1374.61999512, 1349.9699707 ],\n",
       "        [1349.9699707 , 1349.9699707 ],\n",
       "        [1349.9699707 , 1342.13000488],\n",
       "        [1342.13000488, 1342.13000488],\n",
       "        [1342.13000488, 1388.76000977],\n",
       "        [1388.76000977, 1388.76000977],\n",
       "        [1388.76000977, 1396.93005371],\n",
       "        [1396.93005371, 1396.93005371],\n",
       "        [1396.93005371, 1395.7800293 ],\n",
       "        [1395.7800293 , 1395.7800293 ],\n",
       "        [1395.7800293 , 1398.13000488],\n",
       "        [1398.13000488, 1398.13000488],\n",
       "        [1398.13000488, 1364.90002441],\n",
       "        [1364.90002441, 1364.90002441],\n",
       "        [1364.90002441, 1364.43994141],\n",
       "        [1364.43994141, 1364.43994141],\n",
       "        [1364.43994141, 1379.57995605],\n",
       "        [1379.57995605, 1379.57995605],\n",
       "        [1379.57995605, 1398.66003418],\n",
       "        [1398.66003418, 1398.66003418],\n",
       "        [1398.66003418, 1429.40002441],\n",
       "        [1429.40002441, 1429.40002441]]),\n",
       " array([[1421.2199707 , 1421.2199707 ],\n",
       "        [1421.2199707 , 1428.31994629],\n",
       "        [1428.31994629, 1428.31994629],\n",
       "        [1428.31994629, 1426.68994141],\n",
       "        [1426.68994141, 1426.68994141],\n",
       "        [1426.68994141, 1432.18994141],\n",
       "        [1432.18994141, 1432.18994141],\n",
       "        [1432.18994141, 1431.86999512],\n",
       "        [1431.86999512, 1431.86999512],\n",
       "        [1431.86999512, 1409.2800293 ],\n",
       "        [1409.2800293 , 1409.2800293 ],\n",
       "        [1409.2800293 , 1400.14001465],\n",
       "        [1400.14001465, 1400.14001465],\n",
       "        [1400.14001465, 1365.97998047],\n",
       "        [1365.97998047, 1365.97998047],\n",
       "        [1365.97998047, 1351.26000977],\n",
       "        [1351.26000977, 1351.26000977],\n",
       "        [1351.26000977, 1382.94995117],\n",
       "        [1382.94995117, 1382.94995117],\n",
       "        [1382.94995117, 1389.81005859],\n",
       "        [1389.81005859, 1389.81005859],\n",
       "        [1389.81005859, 1372.31994629],\n",
       "        [1372.31994629, 1372.31994629],\n",
       "        [1372.31994629, 1367.7199707 ],\n",
       "        [1367.7199707 , 1367.7199707 ],\n",
       "        [1367.7199707 , 1342.61999512],\n",
       "        [1342.61999512, 1342.61999512],\n",
       "        [1342.61999512, 1347.34997559],\n",
       "        [1347.34997559, 1347.34997559],\n",
       "        [1347.34997559, 1322.35998535],\n",
       "        [1322.35998535, 1322.35998535],\n",
       "        [1322.35998535, 1341.77001953],\n",
       "        [1341.77001953, 1341.77001953],\n",
       "        [1341.77001953, 1348.9699707 ],\n",
       "        [1348.9699707 , 1348.9699707 ],\n",
       "        [1348.9699707 , 1336.08996582],\n",
       "        [1336.08996582, 1336.08996582],\n",
       "        [1336.08996582, 1341.93005371],\n",
       "        [1341.93005371, 1341.93005371],\n",
       "        [1341.93005371, 1314.94995117],\n",
       "        [1314.94995117, 1314.94995117]]),\n",
       " array([[1315.22998047, 1315.22998047],\n",
       "        [1315.22998047, 1324.9699707 ],\n",
       "        [1324.9699707 , 1324.9699707 ],\n",
       "        [1324.9699707 , 1376.54003906],\n",
       "        [1376.54003906, 1376.54003906],\n",
       "        [1376.54003906, 1351.45996094],\n",
       "        [1351.45996094, 1351.45996094],\n",
       "        [1351.45996094, 1343.55004883],\n",
       "        [1343.55004883, 1343.55004883],\n",
       "        [1343.55004883, 1369.89001465],\n",
       "        [1369.89001465, 1369.89001465],\n",
       "        [1369.89001465, 1380.19995117],\n",
       "        [1380.19995117, 1380.19995117],\n",
       "        [1380.19995117, 1371.18005371],\n",
       "        [1371.18005371, 1371.18005371],\n",
       "        [1371.18005371, 1359.98999023],\n",
       "        [1359.98999023, 1359.98999023],\n",
       "        [1359.98999023, 1340.93005371],\n",
       "        [1340.93005371, 1340.93005371],\n",
       "        [1340.93005371, 1312.15002441],\n",
       "        [1312.15002441, 1312.15002441],\n",
       "        [1312.15002441, 1322.73999023],\n",
       "        [1322.73999023, 1322.73999023],\n",
       "        [1322.73999023, 1305.59997559],\n",
       "        [1305.59997559, 1305.59997559],\n",
       "        [1305.59997559, 1264.73999023],\n",
       "        [1264.73999023, 1264.73999023],\n",
       "        [1264.73999023, 1274.85998535],\n",
       "        [1274.85998535, 1274.85998535],\n",
       "        [1274.85998535, 1305.94995117],\n",
       "        [1305.94995117, 1305.94995117],\n",
       "        [1305.94995117, 1315.18994141],\n",
       "        [1315.18994141, 1315.18994141],\n",
       "        [1315.18994141, 1328.92004395],\n",
       "        [1328.92004395, 1328.92004395],\n",
       "        [1328.92004395, 1334.2199707 ],\n",
       "        [1334.2199707 , 1334.2199707 ],\n",
       "        [1334.2199707 , 1320.2800293 ],\n",
       "        [1320.2800293 , 1320.2800293 ]]),\n",
       " array([[1283.27001953, 1283.27001953],\n",
       "        [1283.27001953, 1347.56005859],\n",
       "        [1347.56005859, 1347.56005859],\n",
       "        [1347.56005859, 1333.33996582],\n",
       "        [1333.33996582, 1333.33996582],\n",
       "        [1333.33996582, 1298.34997559],\n",
       "        [1298.34997559, 1298.34997559],\n",
       "        [1298.34997559, 1295.85998535],\n",
       "        [1295.85998535, 1295.85998535],\n",
       "        [1295.85998535, 1300.80004883],\n",
       "        [1300.80004883, 1300.80004883],\n",
       "        [1300.80004883, 1313.27001953],\n",
       "        [1313.27001953, 1313.27001953],\n",
       "        [1313.27001953, 1326.81994629],\n",
       "        [1326.81994629, 1326.81994629],\n",
       "        [1326.81994629, 1318.55004883],\n",
       "        [1318.55004883, 1318.55004883],\n",
       "        [1318.55004883, 1326.65002441],\n",
       "        [1326.65002441, 1326.65002441],\n",
       "        [1326.65002441, 1329.4699707 ],\n",
       "        [1329.4699707 , 1329.4699707 ],\n",
       "        [1329.4699707 , 1347.9699707 ],\n",
       "        [1347.9699707 , 1347.9699707 ],\n",
       "        [1347.9699707 , 1342.54003906],\n",
       "        [1342.54003906, 1342.54003906],\n",
       "        [1342.54003906, 1342.90002441],\n",
       "        [1342.90002441, 1342.90002441],\n",
       "        [1342.90002441, 1360.40002441],\n",
       "        [1360.40002441, 1360.40002441],\n",
       "        [1360.40002441, 1364.30004883],\n",
       "        [1364.30004883, 1364.30004883],\n",
       "        [1364.30004883, 1357.51000977],\n",
       "        [1357.51000977, 1357.51000977],\n",
       "        [1357.51000977, 1354.94995117],\n",
       "        [1354.94995117, 1354.94995117],\n",
       "        [1354.94995117, 1364.17004395],\n",
       "        [1364.17004395, 1364.17004395],\n",
       "        [1364.17004395, 1373.72998047],\n",
       "        [1373.72998047, 1373.72998047],\n",
       "        [1373.72998047, 1366.01000977],\n",
       "        [1366.01000977, 1366.01000977]]),\n",
       " array([[1373.4699707 , 1373.4699707 ],\n",
       "        [1373.4699707 , 1349.4699707 ],\n",
       "        [1349.4699707 , 1349.4699707 ],\n",
       "        [1349.4699707 , 1354.31005859],\n",
       "        [1354.31005859, 1354.31005859],\n",
       "        [1354.31005859, 1352.26000977],\n",
       "        [1352.26000977, 1352.26000977],\n",
       "        [1352.26000977, 1340.89001465],\n",
       "        [1340.89001465, 1340.89001465],\n",
       "        [1340.89001465, 1332.5300293 ],\n",
       "        [1332.5300293 , 1332.5300293 ],\n",
       "        [1332.5300293 , 1314.76000977],\n",
       "        [1314.76000977, 1314.76000977],\n",
       "        [1314.76000977, 1330.31005859],\n",
       "        [1330.31005859, 1330.31005859],\n",
       "        [1330.31005859, 1318.80004883],\n",
       "        [1318.80004883, 1318.80004883],\n",
       "        [1318.80004883, 1315.92004395],\n",
       "        [1315.92004395, 1315.92004395],\n",
       "        [1315.92004395, 1326.60998535],\n",
       "        [1326.60998535, 1326.60998535],\n",
       "        [1326.60998535, 1301.5300293 ],\n",
       "        [1301.5300293 , 1301.5300293 ],\n",
       "        [1301.5300293 , 1278.93994141],\n",
       "        [1278.93994141, 1278.93994141],\n",
       "        [1278.93994141, 1255.27001953],\n",
       "        [1255.27001953, 1255.27001953],\n",
       "        [1255.27001953, 1252.81994629],\n",
       "        [1252.81994629, 1252.81994629],\n",
       "        [1252.81994629, 1245.85998535],\n",
       "        [1245.85998535, 1245.85998535],\n",
       "        [1245.85998535, 1267.65002441],\n",
       "        [1267.65002441, 1267.65002441],\n",
       "        [1267.65002441, 1257.93994141],\n",
       "        [1257.93994141, 1257.93994141],\n",
       "        [1257.93994141, 1239.93994141],\n",
       "        [1239.93994141, 1239.93994141]]),\n",
       " array([[1241.22998047, 1241.22998047],\n",
       "        [1241.22998047, 1234.18005371],\n",
       "        [1234.18005371, 1234.18005371],\n",
       "        [1234.18005371, 1241.41003418],\n",
       "        [1241.41003418, 1241.41003418],\n",
       "        [1241.41003418, 1253.80004883],\n",
       "        [1253.80004883, 1253.80004883],\n",
       "        [1253.80004883, 1261.89001465],\n",
       "        [1261.89001465, 1261.89001465],\n",
       "        [1261.89001465, 1264.73999023],\n",
       "        [1264.73999023, 1264.73999023],\n",
       "        [1264.73999023, 1233.42004395],\n",
       "        [1233.42004395, 1233.42004395],\n",
       "        [1233.42004395, 1180.16003418],\n",
       "        [1180.16003418, 1180.16003418],\n",
       "        [1180.16003418, 1197.66003418],\n",
       "        [1197.66003418, 1197.66003418],\n",
       "        [1197.66003418, 1166.70996094],\n",
       "        [1166.70996094, 1166.70996094],\n",
       "        [1166.70996094, 1173.56005859],\n",
       "        [1173.56005859, 1173.56005859],\n",
       "        [1173.56005859, 1150.5300293 ],\n",
       "        [1150.5300293 , 1150.5300293 ],\n",
       "        [1150.5300293 , 1170.81005859],\n",
       "        [1170.81005859, 1170.81005859],\n",
       "        [1170.81005859, 1142.61999512],\n",
       "        [1142.61999512, 1142.61999512],\n",
       "        [1142.61999512, 1122.14001465],\n",
       "        [1122.14001465, 1122.14001465],\n",
       "        [1122.14001465, 1117.57995605],\n",
       "        [1117.57995605, 1117.57995605],\n",
       "        [1117.57995605, 1139.82995605],\n",
       "        [1139.82995605, 1139.82995605],\n",
       "        [1139.82995605, 1152.68994141],\n",
       "        [1152.68994141, 1152.68994141],\n",
       "        [1152.68994141, 1182.17004395],\n",
       "        [1182.17004395, 1182.17004395],\n",
       "        [1182.17004395, 1153.29003906],\n",
       "        [1153.29003906, 1153.29003906],\n",
       "        [1153.29003906, 1147.94995117],\n",
       "        [1147.94995117, 1147.94995117],\n",
       "        [1147.94995117, 1160.32995605],\n",
       "        [1160.32995605, 1160.32995605]]),\n",
       " array([[1145.86999512, 1145.86999512],\n",
       "        [1145.86999512, 1106.45996094],\n",
       "        [1106.45996094, 1106.45996094],\n",
       "        [1106.45996094, 1103.25      ],\n",
       "        [1103.25      , 1103.25      ],\n",
       "        [1103.25      , 1151.43994141],\n",
       "        [1151.43994141, 1151.43994141],\n",
       "        [1151.43994141, 1128.43005371],\n",
       "        [1128.43005371, 1128.43005371],\n",
       "        [1128.43005371, 1137.58996582],\n",
       "        [1137.58996582, 1137.58996582],\n",
       "        [1137.58996582, 1168.38000488],\n",
       "        [1168.38000488, 1168.38000488],\n",
       "        [1168.38000488, 1165.89001465],\n",
       "        [1165.89001465, 1165.89001465],\n",
       "        [1165.89001465, 1183.5       ],\n",
       "        [1183.5       , 1183.5       ],\n",
       "        [1183.5       , 1179.68005371],\n",
       "        [1179.68005371, 1179.68005371],\n",
       "        [1179.68005371, 1191.81005859],\n",
       "        [1191.81005859, 1191.81005859],\n",
       "        [1191.81005859, 1238.16003418],\n",
       "        [1238.16003418, 1238.16003418],\n",
       "        [1238.16003418, 1253.68994141],\n",
       "        [1253.68994141, 1253.68994141],\n",
       "        [1253.68994141, 1242.97998047],\n",
       "        [1242.97998047, 1242.97998047],\n",
       "        [1242.97998047, 1224.35998535],\n",
       "        [1224.35998535, 1224.35998535],\n",
       "        [1224.35998535, 1209.4699707 ],\n",
       "        [1209.4699707 , 1209.4699707 ],\n",
       "        [1209.4699707 , 1228.75      ],\n",
       "        [1228.75      , 1228.75      ],\n",
       "        [1228.75      , 1234.52001953],\n",
       "        [1234.52001953, 1234.52001953],\n",
       "        [1234.52001953, 1253.05004883],\n",
       "        [1253.05004883, 1253.05004883],\n",
       "        [1253.05004883, 1249.45996094],\n",
       "        [1249.45996094, 1249.45996094]]),\n",
       " array([[1266.43994141, 1266.43994141],\n",
       "        [1266.43994141, 1267.43005371],\n",
       "        [1267.43005371, 1267.43005371],\n",
       "        [1267.43005371, 1248.57995605],\n",
       "        [1248.57995605, 1248.57995605],\n",
       "        [1248.57995605, 1266.60998535],\n",
       "        [1266.60998535, 1266.60998535],\n",
       "        [1266.60998535, 1263.51000977],\n",
       "        [1263.51000977, 1263.51000977],\n",
       "        [1263.51000977, 1261.19995117],\n",
       "        [1261.19995117, 1261.19995117],\n",
       "        [1261.19995117, 1255.54003906],\n",
       "        [1255.54003906, 1255.54003906],\n",
       "        [1255.54003906, 1255.18005371],\n",
       "        [1255.18005371, 1255.18005371],\n",
       "        [1255.18005371, 1245.67004395],\n",
       "        [1245.67004395, 1245.67004395],\n",
       "        [1245.67004395, 1248.92004395],\n",
       "        [1248.92004395, 1248.92004395],\n",
       "        [1248.92004395, 1249.43994141],\n",
       "        [1249.43994141, 1249.43994141],\n",
       "        [1249.43994141, 1284.98999023],\n",
       "        [1284.98999023, 1284.98999023],\n",
       "        [1284.98999023, 1288.48999023],\n",
       "        [1288.48999023, 1288.48999023],\n",
       "        [1288.48999023, 1291.95996094],\n",
       "        [1291.95996094, 1291.95996094],\n",
       "        [1291.95996094, 1312.82995605],\n",
       "        [1312.82995605, 1312.82995605],\n",
       "        [1312.82995605, 1309.38000488],\n",
       "        [1309.38000488, 1309.38000488],\n",
       "        [1309.38000488, 1289.05004883],\n",
       "        [1289.05004883, 1289.05004883],\n",
       "        [1289.05004883, 1293.17004395],\n",
       "        [1293.17004395, 1293.17004395],\n",
       "        [1293.17004395, 1277.89001465],\n",
       "        [1277.89001465, 1277.89001465],\n",
       "        [1277.89001465, 1267.93005371],\n",
       "        [1267.93005371, 1267.93005371],\n",
       "        [1267.93005371, 1248.07995605],\n",
       "        [1248.07995605, 1248.07995605],\n",
       "        [1248.07995605, 1255.81994629],\n",
       "        [1255.81994629, 1255.81994629]]),\n",
       " array([[1260.67004395, 1260.67004395],\n",
       "        [1260.67004395, 1267.10998535],\n",
       "        [1267.10998535, 1267.10998535],\n",
       "        [1267.10998535, 1283.56994629],\n",
       "        [1283.56994629, 1283.56994629],\n",
       "        [1283.56994629, 1270.0300293 ],\n",
       "        [1270.0300293 , 1270.0300293 ],\n",
       "        [1270.0300293 , 1276.95996094],\n",
       "        [1276.95996094, 1276.95996094],\n",
       "        [1276.95996094, 1264.95996094],\n",
       "        [1264.95996094, 1264.95996094],\n",
       "        [1264.95996094, 1254.39001465],\n",
       "        [1254.39001465, 1254.39001465],\n",
       "        [1254.39001465, 1255.84997559],\n",
       "        [1255.84997559, 1255.84997559],\n",
       "        [1255.84997559, 1241.59997559],\n",
       "        [1241.59997559, 1241.59997559],\n",
       "        [1241.59997559, 1219.86999512],\n",
       "        [1219.86999512, 1219.86999512],\n",
       "        [1219.86999512, 1214.35998535],\n",
       "        [1214.35998535, 1214.35998535],\n",
       "        [1214.35998535, 1208.43005371],\n",
       "        [1208.43005371, 1208.43005371],\n",
       "        [1208.43005371, 1212.57995605],\n",
       "        [1212.57995605, 1212.57995605],\n",
       "        [1212.57995605, 1223.14001465],\n",
       "        [1223.14001465, 1223.14001465],\n",
       "        [1223.14001465, 1237.04003906],\n",
       "        [1237.04003906, 1237.04003906],\n",
       "        [1237.04003906, 1225.34997559],\n",
       "        [1225.34997559, 1225.34997559],\n",
       "        [1225.34997559, 1218.59997559],\n",
       "        [1218.59997559, 1218.59997559],\n",
       "        [1218.59997559, 1216.76000977],\n",
       "        [1216.76000977, 1216.76000977],\n",
       "        [1216.76000977, 1211.06994629],\n",
       "        [1211.06994629, 1211.06994629],\n",
       "        [1211.06994629, 1226.19995117],\n",
       "        [1226.19995117, 1226.19995117],\n",
       "        [1226.19995117, 1224.38000488],\n",
       "        [1224.38000488, 1224.38000488]]),\n",
       " array([[1236.7199707 , 1236.7199707 ],\n",
       "        [1236.7199707 , 1234.44995117],\n",
       "        [1234.44995117, 1234.44995117],\n",
       "        [1234.44995117, 1219.23999023],\n",
       "        [1219.23999023, 1219.23999023],\n",
       "        [1219.23999023, 1190.58996582],\n",
       "        [1190.58996582, 1190.58996582],\n",
       "        [1190.58996582, 1198.7800293 ],\n",
       "        [1198.7800293 , 1198.7800293 ],\n",
       "        [1198.7800293 , 1181.52001953],\n",
       "        [1181.52001953, 1181.52001953],\n",
       "        [1181.52001953, 1180.18005371],\n",
       "        [1180.18005371, 1180.18005371],\n",
       "        [1180.18005371, 1208.14001465],\n",
       "        [1208.14001465, 1208.14001465],\n",
       "        [1208.14001465, 1215.68005371],\n",
       "        [1215.68005371, 1215.68005371],\n",
       "        [1215.68005371, 1202.44995117],\n",
       "        [1202.44995117, 1202.44995117],\n",
       "        [1202.44995117, 1214.43994141],\n",
       "        [1214.43994141, 1214.43994141],\n",
       "        [1214.43994141, 1207.70996094],\n",
       "        [1207.70996094, 1207.70996094],\n",
       "        [1207.70996094, 1215.02001953],\n",
       "        [1215.02001953, 1215.02001953],\n",
       "        [1215.02001953, 1210.84997559],\n",
       "        [1210.84997559, 1210.84997559],\n",
       "        [1210.84997559, 1191.0300293 ],\n",
       "        [1191.0300293 , 1191.0300293 ],\n",
       "        [1191.0300293 , 1171.65002441],\n",
       "        [1171.65002441, 1171.65002441],\n",
       "        [1171.65002441, 1190.48999023],\n",
       "        [1190.48999023, 1190.48999023],\n",
       "        [1190.48999023, 1202.93005371],\n",
       "        [1202.93005371, 1202.93005371],\n",
       "        [1202.93005371, 1205.81994629],\n",
       "        [1205.81994629, 1205.81994629],\n",
       "        [1205.81994629, 1204.52001953],\n",
       "        [1204.52001953, 1204.52001953],\n",
       "        [1204.52001953, 1211.22998047],\n",
       "        [1211.22998047, 1211.22998047]]),\n",
       " array([[1215.93005371, 1215.93005371],\n",
       "        [1215.93005371, 1220.75      ],\n",
       "        [1220.75      , 1220.75      ],\n",
       "        [1220.75      , 1214.34997559],\n",
       "        [1214.34997559, 1214.34997559],\n",
       "        [1214.34997559, 1200.47998047],\n",
       "        [1200.47998047, 1200.47998047],\n",
       "        [1200.47998047, 1204.40002441],\n",
       "        [1204.40002441, 1204.40002441],\n",
       "        [1204.40002441, 1183.5300293 ],\n",
       "        [1183.5300293 , 1183.5300293 ],\n",
       "        [1183.5300293 , 1183.43005371],\n",
       "        [1183.43005371, 1183.43005371],\n",
       "        [1183.43005371, 1190.16003418],\n",
       "        [1190.16003418, 1190.16003418],\n",
       "        [1190.16003418, 1191.29003906],\n",
       "        [1191.29003906, 1191.29003906],\n",
       "        [1191.29003906, 1186.72998047],\n",
       "        [1186.72998047, 1186.72998047],\n",
       "        [1186.72998047, 1178.02001953],\n",
       "        [1178.02001953, 1178.02001953],\n",
       "        [1178.02001953, 1181.66003418],\n",
       "        [1181.66003418, 1181.66003418],\n",
       "        [1181.66003418, 1161.9699707 ],\n",
       "        [1161.9699707 , 1161.9699707 ],\n",
       "        [1161.9699707 , 1171.41003418],\n",
       "        [1171.41003418, 1171.41003418],\n",
       "        [1171.41003418, 1157.26000977],\n",
       "        [1157.26000977, 1157.26000977],\n",
       "        [1157.26000977, 1165.31005859],\n",
       "        [1165.31005859, 1165.31005859],\n",
       "        [1165.31005859, 1162.08996582],\n",
       "        [1162.08996582, 1162.08996582],\n",
       "        [1162.08996582, 1184.93005371],\n",
       "        [1184.93005371, 1184.93005371],\n",
       "        [1184.93005371, 1179.20996094],\n",
       "        [1179.20996094, 1179.20996094],\n",
       "        [1179.20996094, 1161.51000977],\n",
       "        [1161.51000977, 1161.51000977],\n",
       "        [1161.51000977, 1148.56005859],\n",
       "        [1148.56005859, 1148.56005859],\n",
       "        [1148.56005859, 1129.0300293 ],\n",
       "        [1129.0300293 , 1129.0300293 ],\n",
       "        [1129.0300293 , 1133.57995605],\n",
       "        [1133.57995605, 1133.57995605]])]"
      ]
     },
     "execution_count": 39,
     "metadata": {},
     "output_type": "execute_result"
    }
   ],
   "source": [
    "MG.windows[:20]"
   ]
  },
  {
   "cell_type": "code",
   "execution_count": 73,
   "metadata": {},
   "outputs": [
    {
     "data": {
      "image/png": "[encoded data removed]",
      "text/plain": [
       "<Figure size 576x432 with 1 Axes>"
      ]
     },
     "metadata": {
      "needs_background": "light"
     },
     "output_type": "display_data"
    }
   ],
   "source": [
    "import matplotlib.patches as mpatches\n",
    "\n",
    "plt.figure(figsize=(8, 6))\n",
    "for path1, path2 in zip(paths, MG.windows):\n",
    "    returns = path2[::2, 1][:20] - path2[0, 1]\n",
    "    plt.plot(returns, \"C1\", alpha=0.25)\n",
    "\n",
    "    plt.plot(path1[:20], \"C0\", alpha=0.25)\n",
    "    \n",
    "    \n",
    "blue_patch = mpatches.Patch(color='C0', label='Generated paths')\n",
    "red_patch = mpatches.Patch(color='C1', label='Real paths')\n",
    "plt.legend(handles=[blue_patch, red_patch], fontsize=12)\n",
    "plt.xlabel(\"Days\", fontsize=14) \n",
    "plt.show()"
   ]
  },
  {
   "cell_type": "code",
   "execution_count": 74,
   "metadata": {},
   "outputs": [
    {
     "data": {
      "image/png": "[encoded data removed]",
      "text/plain": [
       "<Figure size 432x288 with 1 Axes>"
      ]
     },
     "metadata": {
      "needs_background": "light"
     },
     "output_type": "display_data"
    }
   ],
   "source": [
    "returns1 = [path[-1] - path[0] for path in paths]\n",
    "returns2 = [path[-1, 1] - path[0, 0] for path in MG.windows]\n",
    "\n",
    "_ = plt.hist([returns1, returns2], bins=20, label=[\"Real paths\", \"Generated paths\"])\n",
    "plt.xlabel(\"Monthly return\", fontsize=14)\n",
    "plt.legend(fontsize=12)\n",
    "plt.show()"
   ]
  },
  {
   "cell_type": "code",
   "execution_count": 21,
   "metadata": {},
   "outputs": [],
   "source": [
    "def concatenate(condition, periods):\n",
    "    joined_path = None\n",
    "\n",
    "    for _ in range(periods):\n",
    "        generated = MG.generate(condition)\n",
    "        path, loss = logsig_inversion.train(generated, order, n_iterations, n_organisms, n_points,\n",
    "                                            pip, n_pips)\n",
    "\n",
    "        condition = tosig.stream2logsig(market_generator.leadlag(recovered_path), order)\n",
    "        condition = MG.scaler.transform([condition])[0]\n",
    "\n",
    "        if joined_path is None:\n",
    "            joined_path = path\n",
    "        else:\n",
    "            joined_path = np.r_[joined_path, np.add(path[1:], joined_path[-1])]\n",
    "            \n",
    "    return joined_path"
   ]
  },
  {
   "cell_type": "code",
   "execution_count": 22,
   "metadata": {
    "scrolled": true
   },
   "outputs": [
    {
     "data": {
      "application/vnd.jupyter.widget-view+json": {
       "model_id": "d681426404274ad698f606c0206c141b",
       "version_major": 2,
       "version_minor": 0
      },
      "text/plain": [
       "  0%|          | 0/100 [00:00<?, ?it/s]"
      ]
     },
     "metadata": {},
     "output_type": "display_data"
    },
    {
     "data": {
      "application/vnd.jupyter.widget-view+json": {
       "model_id": "001ea2523fdc46e79c384858d9e34385",
       "version_major": 2,
       "version_minor": 0
      },
      "text/plain": [
       "  0%|          | 0/100 [00:00<?, ?it/s]"
      ]
     },
     "metadata": {},
     "output_type": "display_data"
    },
    {
     "data": {
      "application/vnd.jupyter.widget-view+json": {
       "model_id": "231d9a6f99d64f05a817b32beb090433",
       "version_major": 2,
       "version_minor": 0
      },
      "text/plain": [
       "  0%|          | 0/100 [00:00<?, ?it/s]"
      ]
     },
     "metadata": {},
     "output_type": "display_data"
    },
    {
     "data": {
      "application/vnd.jupyter.widget-view+json": {
       "model_id": "75f0169b74ca4f59bd91117f21ac5fe8",
       "version_major": 2,
       "version_minor": 0
      },
      "text/plain": [
       "  0%|          | 0/100 [00:00<?, ?it/s]"
      ]
     },
     "metadata": {},
     "output_type": "display_data"
    },
    {
     "data": {
      "application/vnd.jupyter.widget-view+json": {
       "model_id": "8333b1e26e2f4ddca63b4fa3725164e0",
       "version_major": 2,
       "version_minor": 0
      },
      "text/plain": [
       "  0%|          | 0/100 [00:00<?, ?it/s]"
      ]
     },
     "metadata": {},
     "output_type": "display_data"
    },
    {
     "data": {
      "application/vnd.jupyter.widget-view+json": {
       "model_id": "1768fc0081fe452cbd7bec9358ac90fd",
       "version_major": 2,
       "version_minor": 0
      },
      "text/plain": [
       "  0%|          | 0/100 [00:00<?, ?it/s]"
      ]
     },
     "metadata": {},
     "output_type": "display_data"
    },
    {
     "data": {
      "application/vnd.jupyter.widget-view+json": {
       "model_id": "807509951a414407a1b6c2091a73b2c2",
       "version_major": 2,
       "version_minor": 0
      },
      "text/plain": [
       "  0%|          | 0/100 [00:00<?, ?it/s]"
      ]
     },
     "metadata": {},
     "output_type": "display_data"
    },
    {
     "data": {
      "application/vnd.jupyter.widget-view+json": {
       "model_id": "d78d8b379ba346b5ba86a429b81b32d9",
       "version_major": 2,
       "version_minor": 0
      },
      "text/plain": [
       "  0%|          | 0/100 [00:00<?, ?it/s]"
      ]
     },
     "metadata": {},
     "output_type": "display_data"
    },
    {
     "data": {
      "application/vnd.jupyter.widget-view+json": {
       "model_id": "e5972c764c6349eca7465fb17b6c64f0",
       "version_major": 2,
       "version_minor": 0
      },
      "text/plain": [
       "  0%|          | 0/100 [00:00<?, ?it/s]"
      ]
     },
     "metadata": {},
     "output_type": "display_data"
    },
    {
     "data": {
      "application/vnd.jupyter.widget-view+json": {
       "model_id": "529341f0a8c8449cb8b973582ceeb568",
       "version_major": 2,
       "version_minor": 0
      },
      "text/plain": [
       "  0%|          | 0/100 [00:00<?, ?it/s]"
      ]
     },
     "metadata": {},
     "output_type": "display_data"
    },
    {
     "data": {
      "application/vnd.jupyter.widget-view+json": {
       "model_id": "b0ee49e52a514da9a0076352cc7f86fe",
       "version_major": 2,
       "version_minor": 0
      },
      "text/plain": [
       "  0%|          | 0/100 [00:00<?, ?it/s]"
      ]
     },
     "metadata": {},
     "output_type": "display_data"
    },
    {
     "data": {
      "application/vnd.jupyter.widget-view+json": {
       "model_id": "b3ae4f462d354ff382376947ee5587b4",
       "version_major": 2,
       "version_minor": 0
      },
      "text/plain": [
       "  0%|          | 0/100 [00:00<?, ?it/s]"
      ]
     },
     "metadata": {},
     "output_type": "display_data"
    },
    {
     "data": {
      "application/vnd.jupyter.widget-view+json": {
       "model_id": "07a2d48d3013445086375b3053dbf5b4",
       "version_major": 2,
       "version_minor": 0
      },
      "text/plain": [
       "  0%|          | 0/100 [00:00<?, ?it/s]"
      ]
     },
     "metadata": {},
     "output_type": "display_data"
    },
    {
     "data": {
      "application/vnd.jupyter.widget-view+json": {
       "model_id": "4743c5ccab0647b0a82a23b32cc0e1d3",
       "version_major": 2,
       "version_minor": 0
      },
      "text/plain": [
       "  0%|          | 0/100 [00:00<?, ?it/s]"
      ]
     },
     "metadata": {},
     "output_type": "display_data"
    },
    {
     "data": {
      "application/vnd.jupyter.widget-view+json": {
       "model_id": "b9e6793f8a0143a7ad28efdcd2ed089c",
       "version_major": 2,
       "version_minor": 0
      },
      "text/plain": [
       "  0%|          | 0/100 [00:00<?, ?it/s]"
      ]
     },
     "metadata": {},
     "output_type": "display_data"
    },
    {
     "data": {
      "application/vnd.jupyter.widget-view+json": {
       "model_id": "acfb85b96c384c44a395de51fd004633",
       "version_major": 2,
       "version_minor": 0
      },
      "text/plain": [
       "  0%|          | 0/100 [00:00<?, ?it/s]"
      ]
     },
     "metadata": {},
     "output_type": "display_data"
    },
    {
     "data": {
      "application/vnd.jupyter.widget-view+json": {
       "model_id": "1a94c0ef45484a72b80f9e9f9a346f2e",
       "version_major": 2,
       "version_minor": 0
      },
      "text/plain": [
       "  0%|          | 0/100 [00:00<?, ?it/s]"
      ]
     },
     "metadata": {},
     "output_type": "display_data"
    },
    {
     "data": {
      "application/vnd.jupyter.widget-view+json": {
       "model_id": "771ec90b83274b6598c55f568fa09480",
       "version_major": 2,
       "version_minor": 0
      },
      "text/plain": [
       "  0%|          | 0/100 [00:00<?, ?it/s]"
      ]
     },
     "metadata": {},
     "output_type": "display_data"
    },
    {
     "data": {
      "application/vnd.jupyter.widget-view+json": {
       "model_id": "5f547bbbe65d4401aefbc9cc451fe89c",
       "version_major": 2,
       "version_minor": 0
      },
      "text/plain": [
       "  0%|          | 0/100 [00:00<?, ?it/s]"
      ]
     },
     "metadata": {},
     "output_type": "display_data"
    },
    {
     "data": {
      "application/vnd.jupyter.widget-view+json": {
       "model_id": "82da7048c81e4413aacc869ed42af149",
       "version_major": 2,
       "version_minor": 0
      },
      "text/plain": [
       "  0%|          | 0/100 [00:00<?, ?it/s]"
      ]
     },
     "metadata": {},
     "output_type": "display_data"
    },
    {
     "data": {
      "application/vnd.jupyter.widget-view+json": {
       "model_id": "146452e4b3d04e28af3b7a82adb6110f",
       "version_major": 2,
       "version_minor": 0
      },
      "text/plain": [
       "  0%|          | 0/100 [00:00<?, ?it/s]"
      ]
     },
     "metadata": {},
     "output_type": "display_data"
    },
    {
     "data": {
      "application/vnd.jupyter.widget-view+json": {
       "model_id": "696be1423a5f47b9a3af7f5e80b054d5",
       "version_major": 2,
       "version_minor": 0
      },
      "text/plain": [
       "  0%|          | 0/100 [00:00<?, ?it/s]"
      ]
     },
     "metadata": {},
     "output_type": "display_data"
    },
    {
     "data": {
      "application/vnd.jupyter.widget-view+json": {
       "model_id": "e34f729a3350460d9f0d47104e9f3e69",
       "version_major": 2,
       "version_minor": 0
      },
      "text/plain": [
       "  0%|          | 0/100 [00:00<?, ?it/s]"
      ]
     },
     "metadata": {},
     "output_type": "display_data"
    },
    {
     "data": {
      "application/vnd.jupyter.widget-view+json": {
       "model_id": "0a16beaa479e417dbf029cc30d3a8d84",
       "version_major": 2,
       "version_minor": 0
      },
      "text/plain": [
       "  0%|          | 0/100 [00:00<?, ?it/s]"
      ]
     },
     "metadata": {},
     "output_type": "display_data"
    },
    {
     "data": {
      "application/vnd.jupyter.widget-view+json": {
       "model_id": "e420972adadb4cf49b6c90bc52e47b4d",
       "version_major": 2,
       "version_minor": 0
      },
      "text/plain": [
       "  0%|          | 0/100 [00:00<?, ?it/s]"
      ]
     },
     "metadata": {},
     "output_type": "display_data"
    },
    {
     "data": {
      "application/vnd.jupyter.widget-view+json": {
       "model_id": "e9d9f8e1b9434b238f21b05fb942cb65",
       "version_major": 2,
       "version_minor": 0
      },
      "text/plain": [
       "  0%|          | 0/100 [00:00<?, ?it/s]"
      ]
     },
     "metadata": {},
     "output_type": "display_data"
    },
    {
     "data": {
      "application/vnd.jupyter.widget-view+json": {
       "model_id": "a7ef65b5d5304abd94b73f1135a6a470",
       "version_major": 2,
       "version_minor": 0
      },
      "text/plain": [
       "  0%|          | 0/100 [00:00<?, ?it/s]"
      ]
     },
     "metadata": {},
     "output_type": "display_data"
    },
    {
     "data": {
      "application/vnd.jupyter.widget-view+json": {
       "model_id": "0d967ecc38444effa0a0d4596e358210",
       "version_major": 2,
       "version_minor": 0
      },
      "text/plain": [
       "  0%|          | 0/100 [00:00<?, ?it/s]"
      ]
     },
     "metadata": {},
     "output_type": "display_data"
    },
    {
     "data": {
      "application/vnd.jupyter.widget-view+json": {
       "model_id": "7a715a5f25874bc1806dbededb7a2448",
       "version_major": 2,
       "version_minor": 0
      },
      "text/plain": [
       "  0%|          | 0/100 [00:00<?, ?it/s]"
      ]
     },
     "metadata": {},
     "output_type": "display_data"
    },
    {
     "data": {
      "application/vnd.jupyter.widget-view+json": {
       "model_id": "b27140dbd33c468b8f19d79ed66b30bd",
       "version_major": 2,
       "version_minor": 0
      },
      "text/plain": [
       "  0%|          | 0/100 [00:00<?, ?it/s]"
      ]
     },
     "metadata": {},
     "output_type": "display_data"
    },
    {
     "data": {
      "application/vnd.jupyter.widget-view+json": {
       "model_id": "0a407c3af0404b2f809e4ac57e5b0a82",
       "version_major": 2,
       "version_minor": 0
      },
      "text/plain": [
       "  0%|          | 0/100 [00:00<?, ?it/s]"
      ]
     },
     "metadata": {},
     "output_type": "display_data"
    },
    {
     "data": {
      "application/vnd.jupyter.widget-view+json": {
       "model_id": "3c6f3b86b0e94253aa6fa0da0e31c6d0",
       "version_major": 2,
       "version_minor": 0
      },
      "text/plain": [
       "  0%|          | 0/100 [00:00<?, ?it/s]"
      ]
     },
     "metadata": {},
     "output_type": "display_data"
    },
    {
     "data": {
      "application/vnd.jupyter.widget-view+json": {
       "model_id": "36996fa1a0e346e4a1a3797397959b5f",
       "version_major": 2,
       "version_minor": 0
      },
      "text/plain": [
       "  0%|          | 0/100 [00:00<?, ?it/s]"
      ]
     },
     "metadata": {},
     "output_type": "display_data"
    },
    {
     "data": {
      "application/vnd.jupyter.widget-view+json": {
       "model_id": "1fa6b66f3b54457fbe61e784978ed1b3",
       "version_major": 2,
       "version_minor": 0
      },
      "text/plain": [
       "  0%|          | 0/100 [00:00<?, ?it/s]"
      ]
     },
     "metadata": {},
     "output_type": "display_data"
    },
    {
     "data": {
      "application/vnd.jupyter.widget-view+json": {
       "model_id": "a0d67429db7f441a8bd0d11b8d4c1da7",
       "version_major": 2,
       "version_minor": 0
      },
      "text/plain": [
       "  0%|          | 0/100 [00:00<?, ?it/s]"
      ]
     },
     "metadata": {},
     "output_type": "display_data"
    },
    {
     "data": {
      "application/vnd.jupyter.widget-view+json": {
       "model_id": "9ad05789c37e48a584c7bd338a0f4a8f",
       "version_major": 2,
       "version_minor": 0
      },
      "text/plain": [
       "  0%|          | 0/100 [00:00<?, ?it/s]"
      ]
     },
     "metadata": {},
     "output_type": "display_data"
    },
    {
     "data": {
      "application/vnd.jupyter.widget-view+json": {
       "model_id": "8f2ffa27c24047bfbdbff7aaa795fb2c",
       "version_major": 2,
       "version_minor": 0
      },
      "text/plain": [
       "  0%|          | 0/100 [00:00<?, ?it/s]"
      ]
     },
     "metadata": {},
     "output_type": "display_data"
    },
    {
     "data": {
      "application/vnd.jupyter.widget-view+json": {
       "model_id": "289591cdb42c42e2a3cae14c10a15f28",
       "version_major": 2,
       "version_minor": 0
      },
      "text/plain": [
       "  0%|          | 0/100 [00:00<?, ?it/s]"
      ]
     },
     "metadata": {},
     "output_type": "display_data"
    },
    {
     "data": {
      "application/vnd.jupyter.widget-view+json": {
       "model_id": "af8b5db519284f90bef129c71d12ae8d",
       "version_major": 2,
       "version_minor": 0
      },
      "text/plain": [
       "  0%|          | 0/100 [00:00<?, ?it/s]"
      ]
     },
     "metadata": {},
     "output_type": "display_data"
    },
    {
     "data": {
      "application/vnd.jupyter.widget-view+json": {
       "model_id": "b056c23883c54154a17087597356ac9b",
       "version_major": 2,
       "version_minor": 0
      },
      "text/plain": [
       "  0%|          | 0/100 [00:00<?, ?it/s]"
      ]
     },
     "metadata": {},
     "output_type": "display_data"
    },
    {
     "data": {
      "application/vnd.jupyter.widget-view+json": {
       "model_id": "82dd3cd0e1f04bc49f0ba900807ef5a0",
       "version_major": 2,
       "version_minor": 0
      },
      "text/plain": [
       "  0%|          | 0/100 [00:00<?, ?it/s]"
      ]
     },
     "metadata": {},
     "output_type": "display_data"
    },
    {
     "data": {
      "application/vnd.jupyter.widget-view+json": {
       "model_id": "e5370284628a434fa2c945e654026301",
       "version_major": 2,
       "version_minor": 0
      },
      "text/plain": [
       "  0%|          | 0/100 [00:00<?, ?it/s]"
      ]
     },
     "metadata": {},
     "output_type": "display_data"
    },
    {
     "data": {
      "application/vnd.jupyter.widget-view+json": {
       "model_id": "05bd2a6bb970464d8b0ac83187389364",
       "version_major": 2,
       "version_minor": 0
      },
      "text/plain": [
       "  0%|          | 0/100 [00:00<?, ?it/s]"
      ]
     },
     "metadata": {},
     "output_type": "display_data"
    },
    {
     "data": {
      "application/vnd.jupyter.widget-view+json": {
       "model_id": "0e9b15d5972e4103b8c11b7fcb1e572e",
       "version_major": 2,
       "version_minor": 0
      },
      "text/plain": [
       "  0%|          | 0/100 [00:00<?, ?it/s]"
      ]
     },
     "metadata": {},
     "output_type": "display_data"
    },
    {
     "data": {
      "application/vnd.jupyter.widget-view+json": {
       "model_id": "ef192fa2844a4787ad4c873e85ccb156",
       "version_major": 2,
       "version_minor": 0
      },
      "text/plain": [
       "  0%|          | 0/100 [00:00<?, ?it/s]"
      ]
     },
     "metadata": {},
     "output_type": "display_data"
    },
    {
     "data": {
      "application/vnd.jupyter.widget-view+json": {
       "model_id": "f68236e6249d4b7b8f38577412a2ceed",
       "version_major": 2,
       "version_minor": 0
      },
      "text/plain": [
       "  0%|          | 0/100 [00:00<?, ?it/s]"
      ]
     },
     "metadata": {},
     "output_type": "display_data"
    },
    {
     "data": {
      "application/vnd.jupyter.widget-view+json": {
       "model_id": "307c782326b04267a57a993aeb1ce91e",
       "version_major": 2,
       "version_minor": 0
      },
      "text/plain": [
       "  0%|          | 0/100 [00:00<?, ?it/s]"
      ]
     },
     "metadata": {},
     "output_type": "display_data"
    },
    {
     "data": {
      "application/vnd.jupyter.widget-view+json": {
       "model_id": "bdd2571ab7f641b8ac7125eea6d0b9a7",
       "version_major": 2,
       "version_minor": 0
      },
      "text/plain": [
       "  0%|          | 0/100 [00:00<?, ?it/s]"
      ]
     },
     "metadata": {},
     "output_type": "display_data"
    },
    {
     "data": {
      "application/vnd.jupyter.widget-view+json": {
       "model_id": "ac54ca54b6f64e12913b3ce93df5fbad",
       "version_major": 2,
       "version_minor": 0
      },
      "text/plain": [
       "  0%|          | 0/100 [00:00<?, ?it/s]"
      ]
     },
     "metadata": {},
     "output_type": "display_data"
    },
    {
     "data": {
      "application/vnd.jupyter.widget-view+json": {
       "model_id": "a543158bb6bc48cbb0b833d16731c424",
       "version_major": 2,
       "version_minor": 0
      },
      "text/plain": [
       "  0%|          | 0/100 [00:00<?, ?it/s]"
      ]
     },
     "metadata": {},
     "output_type": "display_data"
    },
    {
     "data": {
      "application/vnd.jupyter.widget-view+json": {
       "model_id": "722d8db58bb844b3a477dbdac8361ec4",
       "version_major": 2,
       "version_minor": 0
      },
      "text/plain": [
       "  0%|          | 0/100 [00:00<?, ?it/s]"
      ]
     },
     "metadata": {},
     "output_type": "display_data"
    },
    {
     "data": {
      "application/vnd.jupyter.widget-view+json": {
       "model_id": "e9f457ce878d43579b906ca80752374e",
       "version_major": 2,
       "version_minor": 0
      },
      "text/plain": [
       "  0%|          | 0/100 [00:00<?, ?it/s]"
      ]
     },
     "metadata": {},
     "output_type": "display_data"
    },
    {
     "data": {
      "application/vnd.jupyter.widget-view+json": {
       "model_id": "26b437f968234a6d915e62e1eff38363",
       "version_major": 2,
       "version_minor": 0
      },
      "text/plain": [
       "  0%|          | 0/100 [00:00<?, ?it/s]"
      ]
     },
     "metadata": {},
     "output_type": "display_data"
    },
    {
     "data": {
      "application/vnd.jupyter.widget-view+json": {
       "model_id": "b2b44b3c55fa4a75ab65801b8cde97a7",
       "version_major": 2,
       "version_minor": 0
      },
      "text/plain": [
       "  0%|          | 0/100 [00:00<?, ?it/s]"
      ]
     },
     "metadata": {},
     "output_type": "display_data"
    },
    {
     "data": {
      "application/vnd.jupyter.widget-view+json": {
       "model_id": "1182662ffbf645c0a5d81371ae5778b1",
       "version_major": 2,
       "version_minor": 0
      },
      "text/plain": [
       "  0%|          | 0/100 [00:00<?, ?it/s]"
      ]
     },
     "metadata": {},
     "output_type": "display_data"
    },
    {
     "data": {
      "application/vnd.jupyter.widget-view+json": {
       "model_id": "5e94b42cd07e480aa82cdfe0caae31ea",
       "version_major": 2,
       "version_minor": 0
      },
      "text/plain": [
       "  0%|          | 0/100 [00:00<?, ?it/s]"
      ]
     },
     "metadata": {},
     "output_type": "display_data"
    },
    {
     "data": {
      "application/vnd.jupyter.widget-view+json": {
       "model_id": "d8a5258bf40f4b5f87bcc2d65d6e9004",
       "version_major": 2,
       "version_minor": 0
      },
      "text/plain": [
       "  0%|          | 0/100 [00:00<?, ?it/s]"
      ]
     },
     "metadata": {},
     "output_type": "display_data"
    },
    {
     "data": {
      "application/vnd.jupyter.widget-view+json": {
       "model_id": "01347c111eef435ab7f25c2bcaa50e7a",
       "version_major": 2,
       "version_minor": 0
      },
      "text/plain": [
       "  0%|          | 0/100 [00:00<?, ?it/s]"
      ]
     },
     "metadata": {},
     "output_type": "display_data"
    },
    {
     "data": {
      "application/vnd.jupyter.widget-view+json": {
       "model_id": "1469f57d730f42e9820556c89fbc9bff",
       "version_major": 2,
       "version_minor": 0
      },
      "text/plain": [
       "  0%|          | 0/100 [00:00<?, ?it/s]"
      ]
     },
     "metadata": {},
     "output_type": "display_data"
    },
    {
     "data": {
      "application/vnd.jupyter.widget-view+json": {
       "model_id": "7eb2ff40ad9a4dfca2bdafc189a48542",
       "version_major": 2,
       "version_minor": 0
      },
      "text/plain": [
       "  0%|          | 0/100 [00:00<?, ?it/s]"
      ]
     },
     "metadata": {},
     "output_type": "display_data"
    },
    {
     "data": {
      "application/vnd.jupyter.widget-view+json": {
       "model_id": "82267c36fe9c48089520b9e7d942607e",
       "version_major": 2,
       "version_minor": 0
      },
      "text/plain": [
       "  0%|          | 0/100 [00:00<?, ?it/s]"
      ]
     },
     "metadata": {},
     "output_type": "display_data"
    },
    {
     "data": {
      "application/vnd.jupyter.widget-view+json": {
       "model_id": "e15cce1bf2584086a27fc587c6f782f2",
       "version_major": 2,
       "version_minor": 0
      },
      "text/plain": [
       "  0%|          | 0/100 [00:00<?, ?it/s]"
      ]
     },
     "metadata": {},
     "output_type": "display_data"
    },
    {
     "data": {
      "application/vnd.jupyter.widget-view+json": {
       "model_id": "90a0c7ceb0704b258d83a9465a03e2ff",
       "version_major": 2,
       "version_minor": 0
      },
      "text/plain": [
       "  0%|          | 0/100 [00:00<?, ?it/s]"
      ]
     },
     "metadata": {},
     "output_type": "display_data"
    },
    {
     "data": {
      "application/vnd.jupyter.widget-view+json": {
       "model_id": "27fb28b13ccf4073a48c28f97655bb28",
       "version_major": 2,
       "version_minor": 0
      },
      "text/plain": [
       "  0%|          | 0/100 [00:00<?, ?it/s]"
      ]
     },
     "metadata": {},
     "output_type": "display_data"
    },
    {
     "data": {
      "application/vnd.jupyter.widget-view+json": {
       "model_id": "a5def68fff7f4b669df85e8df5a9e6b1",
       "version_major": 2,
       "version_minor": 0
      },
      "text/plain": [
       "  0%|          | 0/100 [00:00<?, ?it/s]"
      ]
     },
     "metadata": {},
     "output_type": "display_data"
    },
    {
     "data": {
      "application/vnd.jupyter.widget-view+json": {
       "model_id": "940d076e4fc2455fa6c42e403235267d",
       "version_major": 2,
       "version_minor": 0
      },
      "text/plain": [
       "  0%|          | 0/100 [00:00<?, ?it/s]"
      ]
     },
     "metadata": {},
     "output_type": "display_data"
    },
    {
     "data": {
      "application/vnd.jupyter.widget-view+json": {
       "model_id": "472e5478731e4f74b9a7f4678777199b",
       "version_major": 2,
       "version_minor": 0
      },
      "text/plain": [
       "  0%|          | 0/100 [00:00<?, ?it/s]"
      ]
     },
     "metadata": {},
     "output_type": "display_data"
    },
    {
     "data": {
      "application/vnd.jupyter.widget-view+json": {
       "model_id": "2a1048a5ae0d4ecfa2af5ce467e604d2",
       "version_major": 2,
       "version_minor": 0
      },
      "text/plain": [
       "  0%|          | 0/100 [00:00<?, ?it/s]"
      ]
     },
     "metadata": {},
     "output_type": "display_data"
    },
    {
     "data": {
      "application/vnd.jupyter.widget-view+json": {
       "model_id": "acc7ba6371f74390a363986c61f1aeef",
       "version_major": 2,
       "version_minor": 0
      },
      "text/plain": [
       "  0%|          | 0/100 [00:00<?, ?it/s]"
      ]
     },
     "metadata": {},
     "output_type": "display_data"
    },
    {
     "data": {
      "application/vnd.jupyter.widget-view+json": {
       "model_id": "f3949aa16bac4bca82b1da0e136a1ece",
       "version_major": 2,
       "version_minor": 0
      },
      "text/plain": [
       "  0%|          | 0/100 [00:00<?, ?it/s]"
      ]
     },
     "metadata": {},
     "output_type": "display_data"
    },
    {
     "data": {
      "application/vnd.jupyter.widget-view+json": {
       "model_id": "5c332bb6f10344c9acdf1b873d80dd5f",
       "version_major": 2,
       "version_minor": 0
      },
      "text/plain": [
       "  0%|          | 0/100 [00:00<?, ?it/s]"
      ]
     },
     "metadata": {},
     "output_type": "display_data"
    },
    {
     "data": {
      "application/vnd.jupyter.widget-view+json": {
       "model_id": "c79e5dcf584b4d219eacf9710895f30c",
       "version_major": 2,
       "version_minor": 0
      },
      "text/plain": [
       "  0%|          | 0/100 [00:00<?, ?it/s]"
      ]
     },
     "metadata": {},
     "output_type": "display_data"
    },
    {
     "data": {
      "application/vnd.jupyter.widget-view+json": {
       "model_id": "2a9c9a3ad00849a8b930db9222231af4",
       "version_major": 2,
       "version_minor": 0
      },
      "text/plain": [
       "  0%|          | 0/100 [00:00<?, ?it/s]"
      ]
     },
     "metadata": {},
     "output_type": "display_data"
    },
    {
     "data": {
      "application/vnd.jupyter.widget-view+json": {
       "model_id": "4147e9eb55ad429f86f948f4ef56830c",
       "version_major": 2,
       "version_minor": 0
      },
      "text/plain": [
       "  0%|          | 0/100 [00:00<?, ?it/s]"
      ]
     },
     "metadata": {},
     "output_type": "display_data"
    },
    {
     "data": {
      "application/vnd.jupyter.widget-view+json": {
       "model_id": "b56d651f46d444bab2a96cea59e1eab4",
       "version_major": 2,
       "version_minor": 0
      },
      "text/plain": [
       "  0%|          | 0/100 [00:00<?, ?it/s]"
      ]
     },
     "metadata": {},
     "output_type": "display_data"
    },
    {
     "data": {
      "application/vnd.jupyter.widget-view+json": {
       "model_id": "6b846787380a43b096df6255e641466d",
       "version_major": 2,
       "version_minor": 0
      },
      "text/plain": [
       "  0%|          | 0/100 [00:00<?, ?it/s]"
      ]
     },
     "metadata": {},
     "output_type": "display_data"
    },
    {
     "data": {
      "application/vnd.jupyter.widget-view+json": {
       "model_id": "ebc722f0f3c5430ab944d6b2ac8e7797",
       "version_major": 2,
       "version_minor": 0
      },
      "text/plain": [
       "  0%|          | 0/100 [00:00<?, ?it/s]"
      ]
     },
     "metadata": {},
     "output_type": "display_data"
    },
    {
     "data": {
      "application/vnd.jupyter.widget-view+json": {
       "model_id": "052cb1df183f427a91e0874a76c6882a",
       "version_major": 2,
       "version_minor": 0
      },
      "text/plain": [
       "  0%|          | 0/100 [00:00<?, ?it/s]"
      ]
     },
     "metadata": {},
     "output_type": "display_data"
    },
    {
     "data": {
      "application/vnd.jupyter.widget-view+json": {
       "model_id": "df46747a306a4613aafe9bf29125c29a",
       "version_major": 2,
       "version_minor": 0
      },
      "text/plain": [
       "  0%|          | 0/100 [00:00<?, ?it/s]"
      ]
     },
     "metadata": {},
     "output_type": "display_data"
    },
    {
     "data": {
      "application/vnd.jupyter.widget-view+json": {
       "model_id": "bcabacb831db474cb66a09ccc7164bc5",
       "version_major": 2,
       "version_minor": 0
      },
      "text/plain": [
       "  0%|          | 0/100 [00:00<?, ?it/s]"
      ]
     },
     "metadata": {},
     "output_type": "display_data"
    },
    {
     "data": {
      "application/vnd.jupyter.widget-view+json": {
       "model_id": "f100c62377504fa6b39a64bfab04f4f6",
       "version_major": 2,
       "version_minor": 0
      },
      "text/plain": [
       "  0%|          | 0/100 [00:00<?, ?it/s]"
      ]
     },
     "metadata": {},
     "output_type": "display_data"
    },
    {
     "data": {
      "application/vnd.jupyter.widget-view+json": {
       "model_id": "8c68c671fcab4c069873fa746225b049",
       "version_major": 2,
       "version_minor": 0
      },
      "text/plain": [
       "  0%|          | 0/100 [00:00<?, ?it/s]"
      ]
     },
     "metadata": {},
     "output_type": "display_data"
    },
    {
     "data": {
      "application/vnd.jupyter.widget-view+json": {
       "model_id": "758386efb698438a86e50d4a31567faa",
       "version_major": 2,
       "version_minor": 0
      },
      "text/plain": [
       "  0%|          | 0/100 [00:00<?, ?it/s]"
      ]
     },
     "metadata": {},
     "output_type": "display_data"
    },
    {
     "data": {
      "application/vnd.jupyter.widget-view+json": {
       "model_id": "f43240c63f274cd9bb07faa5e5174354",
       "version_major": 2,
       "version_minor": 0
      },
      "text/plain": [
       "  0%|          | 0/100 [00:00<?, ?it/s]"
      ]
     },
     "metadata": {},
     "output_type": "display_data"
    },
    {
     "data": {
      "application/vnd.jupyter.widget-view+json": {
       "model_id": "a9a9aee46dac4d209d3227e65db39a94",
       "version_major": 2,
       "version_minor": 0
      },
      "text/plain": [
       "  0%|          | 0/100 [00:00<?, ?it/s]"
      ]
     },
     "metadata": {},
     "output_type": "display_data"
    },
    {
     "data": {
      "application/vnd.jupyter.widget-view+json": {
       "model_id": "ddd024a3b7c54126b1ae305ad5ea8e7f",
       "version_major": 2,
       "version_minor": 0
      },
      "text/plain": [
       "  0%|          | 0/100 [00:00<?, ?it/s]"
      ]
     },
     "metadata": {},
     "output_type": "display_data"
    },
    {
     "data": {
      "application/vnd.jupyter.widget-view+json": {
       "model_id": "ed80d816057642f7a7dfda3ec1e9a04b",
       "version_major": 2,
       "version_minor": 0
      },
      "text/plain": [
       "  0%|          | 0/100 [00:00<?, ?it/s]"
      ]
     },
     "metadata": {},
     "output_type": "display_data"
    },
    {
     "data": {
      "application/vnd.jupyter.widget-view+json": {
       "model_id": "f89b50037307492d805d1ecc10a22835",
       "version_major": 2,
       "version_minor": 0
      },
      "text/plain": [
       "  0%|          | 0/100 [00:00<?, ?it/s]"
      ]
     },
     "metadata": {},
     "output_type": "display_data"
    },
    {
     "data": {
      "application/vnd.jupyter.widget-view+json": {
       "model_id": "787408f1cee44e418206ead64652e994",
       "version_major": 2,
       "version_minor": 0
      },
      "text/plain": [
       "  0%|          | 0/100 [00:00<?, ?it/s]"
      ]
     },
     "metadata": {},
     "output_type": "display_data"
    },
    {
     "data": {
      "application/vnd.jupyter.widget-view+json": {
       "model_id": "f005bfe87ef743b297cc414844b79104",
       "version_major": 2,
       "version_minor": 0
      },
      "text/plain": [
       "  0%|          | 0/100 [00:00<?, ?it/s]"
      ]
     },
     "metadata": {},
     "output_type": "display_data"
    },
    {
     "data": {
      "application/vnd.jupyter.widget-view+json": {
       "model_id": "7899dbb6228a4e51a85b6ba6829b6e82",
       "version_major": 2,
       "version_minor": 0
      },
      "text/plain": [
       "  0%|          | 0/100 [00:00<?, ?it/s]"
      ]
     },
     "metadata": {},
     "output_type": "display_data"
    },
    {
     "data": {
      "application/vnd.jupyter.widget-view+json": {
       "model_id": "df8deaf2aacf4355b4a8ac206e4c891a",
       "version_major": 2,
       "version_minor": 0
      },
      "text/plain": [
       "  0%|          | 0/100 [00:00<?, ?it/s]"
      ]
     },
     "metadata": {},
     "output_type": "display_data"
    },
    {
     "data": {
      "application/vnd.jupyter.widget-view+json": {
       "model_id": "003843c69434449d8c579f716dc44ce4",
       "version_major": 2,
       "version_minor": 0
      },
      "text/plain": [
       "  0%|          | 0/100 [00:00<?, ?it/s]"
      ]
     },
     "metadata": {},
     "output_type": "display_data"
    },
    {
     "data": {
      "application/vnd.jupyter.widget-view+json": {
       "model_id": "a768e7bfeae048be95e15e66ac8db442",
       "version_major": 2,
       "version_minor": 0
      },
      "text/plain": [
       "  0%|          | 0/100 [00:00<?, ?it/s]"
      ]
     },
     "metadata": {},
     "output_type": "display_data"
    },
    {
     "data": {
      "application/vnd.jupyter.widget-view+json": {
       "model_id": "3603983319ca4ae6aba12e5a84fca621",
       "version_major": 2,
       "version_minor": 0
      },
      "text/plain": [
       "  0%|          | 0/100 [00:00<?, ?it/s]"
      ]
     },
     "metadata": {},
     "output_type": "display_data"
    },
    {
     "data": {
      "application/vnd.jupyter.widget-view+json": {
       "model_id": "feee331f5fec49dfb97fc52f9a9ed79e",
       "version_major": 2,
       "version_minor": 0
      },
      "text/plain": [
       "  0%|          | 0/100 [00:00<?, ?it/s]"
      ]
     },
     "metadata": {},
     "output_type": "display_data"
    },
    {
     "data": {
      "application/vnd.jupyter.widget-view+json": {
       "model_id": "9b0b5d584e844cd48205c9b2d24c0c0f",
       "version_major": 2,
       "version_minor": 0
      },
      "text/plain": [
       "  0%|          | 0/100 [00:00<?, ?it/s]"
      ]
     },
     "metadata": {},
     "output_type": "display_data"
    },
    {
     "data": {
      "application/vnd.jupyter.widget-view+json": {
       "model_id": "14e8415fee034be2bb721876e269c626",
       "version_major": 2,
       "version_minor": 0
      },
      "text/plain": [
       "  0%|          | 0/100 [00:00<?, ?it/s]"
      ]
     },
     "metadata": {},
     "output_type": "display_data"
    },
    {
     "data": {
      "application/vnd.jupyter.widget-view+json": {
       "model_id": "f505993a6ea544bdb0c0ed8517baac76",
       "version_major": 2,
       "version_minor": 0
      },
      "text/plain": [
       "  0%|          | 0/100 [00:00<?, ?it/s]"
      ]
     },
     "metadata": {},
     "output_type": "display_data"
    },
    {
     "data": {
      "application/vnd.jupyter.widget-view+json": {
       "model_id": "3d742b13fb4d403daa83aea83f26424e",
       "version_major": 2,
       "version_minor": 0
      },
      "text/plain": [
       "  0%|          | 0/100 [00:00<?, ?it/s]"
      ]
     },
     "metadata": {},
     "output_type": "display_data"
    },
    {
     "data": {
      "application/vnd.jupyter.widget-view+json": {
       "model_id": "3bdebf8aa8c0471c8491ca6ed6146689",
       "version_major": 2,
       "version_minor": 0
      },
      "text/plain": [
       "  0%|          | 0/100 [00:00<?, ?it/s]"
      ]
     },
     "metadata": {},
     "output_type": "display_data"
    },
    {
     "data": {
      "application/vnd.jupyter.widget-view+json": {
       "model_id": "c5fb4e0e144b419f98da54a88376c0a5",
       "version_major": 2,
       "version_minor": 0
      },
      "text/plain": [
       "  0%|          | 0/100 [00:00<?, ?it/s]"
      ]
     },
     "metadata": {},
     "output_type": "display_data"
    },
    {
     "data": {
      "application/vnd.jupyter.widget-view+json": {
       "model_id": "b54de70bff884d339fdcc8f86a73b3a4",
       "version_major": 2,
       "version_minor": 0
      },
      "text/plain": [
       "  0%|          | 0/100 [00:00<?, ?it/s]"
      ]
     },
     "metadata": {},
     "output_type": "display_data"
    },
    {
     "data": {
      "application/vnd.jupyter.widget-view+json": {
       "model_id": "6a4b86d9dd224b59a1dfcd0f3583aa0a",
       "version_major": 2,
       "version_minor": 0
      },
      "text/plain": [
       "  0%|          | 0/100 [00:00<?, ?it/s]"
      ]
     },
     "metadata": {},
     "output_type": "display_data"
    },
    {
     "data": {
      "application/vnd.jupyter.widget-view+json": {
       "model_id": "57a6dcb014f64c58b7567cb0af65ff31",
       "version_major": 2,
       "version_minor": 0
      },
      "text/plain": [
       "  0%|          | 0/100 [00:00<?, ?it/s]"
      ]
     },
     "metadata": {},
     "output_type": "display_data"
    },
    {
     "data": {
      "application/vnd.jupyter.widget-view+json": {
       "model_id": "c111583c1c644e81817c19418c36342e",
       "version_major": 2,
       "version_minor": 0
      },
      "text/plain": [
       "  0%|          | 0/100 [00:00<?, ?it/s]"
      ]
     },
     "metadata": {},
     "output_type": "display_data"
    },
    {
     "data": {
      "application/vnd.jupyter.widget-view+json": {
       "model_id": "7917dac03dbf4fe4b4ea52c1e3f5f34b",
       "version_major": 2,
       "version_minor": 0
      },
      "text/plain": [
       "  0%|          | 0/100 [00:00<?, ?it/s]"
      ]
     },
     "metadata": {},
     "output_type": "display_data"
    },
    {
     "data": {
      "application/vnd.jupyter.widget-view+json": {
       "model_id": "9dcb5bcb4a0d41dd9e48aad1588f7a74",
       "version_major": 2,
       "version_minor": 0
      },
      "text/plain": [
       "  0%|          | 0/100 [00:00<?, ?it/s]"
      ]
     },
     "metadata": {},
     "output_type": "display_data"
    },
    {
     "data": {
      "application/vnd.jupyter.widget-view+json": {
       "model_id": "bfd14e2574624892950456c32dccae05",
       "version_major": 2,
       "version_minor": 0
      },
      "text/plain": [
       "  0%|          | 0/100 [00:00<?, ?it/s]"
      ]
     },
     "metadata": {},
     "output_type": "display_data"
    },
    {
     "data": {
      "application/vnd.jupyter.widget-view+json": {
       "model_id": "eac151ba3b9f40c3a06f73ad9143a6ee",
       "version_major": 2,
       "version_minor": 0
      },
      "text/plain": [
       "  0%|          | 0/100 [00:00<?, ?it/s]"
      ]
     },
     "metadata": {},
     "output_type": "display_data"
    },
    {
     "data": {
      "application/vnd.jupyter.widget-view+json": {
       "model_id": "e05a31843ae1447693ec5249f8c24528",
       "version_major": 2,
       "version_minor": 0
      },
      "text/plain": [
       "  0%|          | 0/100 [00:00<?, ?it/s]"
      ]
     },
     "metadata": {},
     "output_type": "display_data"
    },
    {
     "data": {
      "application/vnd.jupyter.widget-view+json": {
       "model_id": "bfa1fcf310534028ae1f1598ad41834e",
       "version_major": 2,
       "version_minor": 0
      },
      "text/plain": [
       "  0%|          | 0/100 [00:00<?, ?it/s]"
      ]
     },
     "metadata": {},
     "output_type": "display_data"
    },
    {
     "data": {
      "application/vnd.jupyter.widget-view+json": {
       "model_id": "472b1f3efe534d8987193a1bd7568364",
       "version_major": 2,
       "version_minor": 0
      },
      "text/plain": [
       "  0%|          | 0/100 [00:00<?, ?it/s]"
      ]
     },
     "metadata": {},
     "output_type": "display_data"
    },
    {
     "data": {
      "application/vnd.jupyter.widget-view+json": {
       "model_id": "84960b0b95c646e6a8cfc8dead8d7f90",
       "version_major": 2,
       "version_minor": 0
      },
      "text/plain": [
       "  0%|          | 0/100 [00:00<?, ?it/s]"
      ]
     },
     "metadata": {},
     "output_type": "display_data"
    },
    {
     "data": {
      "application/vnd.jupyter.widget-view+json": {
       "model_id": "79c4361699944bc796b410979c7feee2",
       "version_major": 2,
       "version_minor": 0
      },
      "text/plain": [
       "  0%|          | 0/100 [00:00<?, ?it/s]"
      ]
     },
     "metadata": {},
     "output_type": "display_data"
    },
    {
     "data": {
      "application/vnd.jupyter.widget-view+json": {
       "model_id": "4e6e196db89543228c75c2bfa93a58de",
       "version_major": 2,
       "version_minor": 0
      },
      "text/plain": [
       "  0%|          | 0/100 [00:00<?, ?it/s]"
      ]
     },
     "metadata": {},
     "output_type": "display_data"
    },
    {
     "data": {
      "application/vnd.jupyter.widget-view+json": {
       "model_id": "afff75cd77b34e338db8627f826f1452",
       "version_major": 2,
       "version_minor": 0
      },
      "text/plain": [
       "  0%|          | 0/100 [00:00<?, ?it/s]"
      ]
     },
     "metadata": {},
     "output_type": "display_data"
    },
    {
     "data": {
      "application/vnd.jupyter.widget-view+json": {
       "model_id": "cb29fba71abb46ac948daa290e063815",
       "version_major": 2,
       "version_minor": 0
      },
      "text/plain": [
       "  0%|          | 0/100 [00:00<?, ?it/s]"
      ]
     },
     "metadata": {},
     "output_type": "display_data"
    },
    {
     "data": {
      "application/vnd.jupyter.widget-view+json": {
       "model_id": "f59dc7d5f27d4865b416f9ddf2d2cb46",
       "version_major": 2,
       "version_minor": 0
      },
      "text/plain": [
       "  0%|          | 0/100 [00:00<?, ?it/s]"
      ]
     },
     "metadata": {},
     "output_type": "display_data"
    },
    {
     "data": {
      "application/vnd.jupyter.widget-view+json": {
       "model_id": "7a0e51b2d31c41aca8340b6c7704adeb",
       "version_major": 2,
       "version_minor": 0
      },
      "text/plain": [
       "  0%|          | 0/100 [00:00<?, ?it/s]"
      ]
     },
     "metadata": {},
     "output_type": "display_data"
    },
    {
     "data": {
      "image/png": "[encoded data removed]",
      "text/plain": [
       "<Figure size 432x288 with 1 Axes>"
      ]
     },
     "metadata": {
      "needs_background": "light"
     },
     "output_type": "display_data"
    }
   ],
   "source": [
    "idx = 220\n",
    "\n",
    "condition = MG.conditions[idx]\n",
    "\n",
    "paths = [concatenate(condition, 12) for _ in range(10)]\n",
    "\n",
    "plt.plot(np.transpose(paths))\n",
    "plt.show()"
   ]
  },
  {
   "cell_type": "code",
   "execution_count": null,
   "metadata": {},
   "outputs": [],
   "source": []
  },
  {
   "cell_type": "code",
   "execution_count": 23,
   "metadata": {},
   "outputs": [
    {
     "data": {
      "image/png": "[encoded data removed]",
      "text/plain": [
       "<Figure size 432x288 with 1 Axes>"
      ]
     },
     "metadata": {
      "needs_background": "light"
     },
     "output_type": "display_data"
    }
   ],
   "source": [
    "plt.plot(MG.windows[idx + 1][0, 0] + np.transpose(paths))\n",
    "plt.xlabel(\"Days\", fontsize=14) \n",
    "plt.show()"
   ]
  },
  {
   "cell_type": "code",
   "execution_count": null,
   "metadata": {},
   "outputs": [],
   "source": []
  }
 ],
 "metadata": {
  "kernelspec": {
   "display_name": "Python 3 (ipykernel)",
   "language": "python",
   "name": "python3"
  },
  "language_info": {
   "codemirror_mode": {
    "name": "ipython",
    "version": 3
   },
   "file_extension": ".py",
   "mimetype": "text/x-python",
   "name": "python",
   "nbconvert_exporter": "python",
   "pygments_lexer": "ipython3",
   "version": "3.7.3"
  }
 },
 "nbformat": 4,
 "nbformat_minor": 2
}
